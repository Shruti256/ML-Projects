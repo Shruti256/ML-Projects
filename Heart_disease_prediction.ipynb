{
  "nbformat": 4,
  "nbformat_minor": 0,
  "metadata": {
    "colab": {
      "provenance": []
    },
    "kernelspec": {
      "name": "python3",
      "display_name": "Python 3"
    },
    "language_info": {
      "name": "python"
    }
  },
  "cells": [
    {
      "cell_type": "code",
      "execution_count": 1,
      "metadata": {
        "colab": {
          "base_uri": "https://localhost:8080/"
        },
        "id": "e84EZoyPNeco",
        "outputId": "304c0850-b1f7-487d-c8d6-5f32a11dea02"
      },
      "outputs": [
        {
          "output_type": "stream",
          "name": "stdout",
          "text": [
            "['.config', 'heart.csv', 'sample_data']\n"
          ]
        }
      ],
      "source": [
        "import numpy as np\n",
        "import pandas as pd\n",
        "import matplotlib.pyplot as plt\n",
        "import seaborn as sns\n",
        "\n",
        "%matplotlib inline\n",
        "\n",
        "import os\n",
        "print(os.listdir())\n",
        "\n",
        "import warnings\n",
        "warnings.filterwarnings('ignore')"
      ]
    },
    {
      "cell_type": "code",
      "source": [
        "dataset = pd.read_csv(\"heart.csv\")"
      ],
      "metadata": {
        "id": "hMWDVfXdO6Yq"
      },
      "execution_count": 2,
      "outputs": []
    },
    {
      "cell_type": "code",
      "source": [
        "type(dataset)"
      ],
      "metadata": {
        "colab": {
          "base_uri": "https://localhost:8080/",
          "height": 204
        },
        "id": "fJr5EpsbO9C7",
        "outputId": "eb2db290-ba48-4b59-f338-33fd5ac48d60"
      },
      "execution_count": 3,
      "outputs": [
        {
          "output_type": "execute_result",
          "data": {
            "text/plain": [
              "pandas.core.frame.DataFrame"
            ],
            "text/html": [
              "<div style=\"max-width:800px; border: 1px solid var(--colab-border-color);\"><style>\n",
              "      pre.function-repr-contents {\n",
              "        overflow-x: auto;\n",
              "        padding: 8px 12px;\n",
              "        max-height: 500px;\n",
              "      }\n",
              "\n",
              "      pre.function-repr-contents.function-repr-contents-collapsed {\n",
              "        cursor: pointer;\n",
              "        max-height: 100px;\n",
              "      }\n",
              "    </style>\n",
              "    <pre style=\"white-space: initial; background:\n",
              "         var(--colab-secondary-surface-color); padding: 8px 12px;\n",
              "         border-bottom: 1px solid var(--colab-border-color);\"><b>pandas.core.frame.DataFrame</b><br/>def __init__(data=None, index: Axes | None=None, columns: Axes | None=None, dtype: Dtype | None=None, copy: bool | None=None) -&gt; None</pre><pre class=\"function-repr-contents function-repr-contents-collapsed\" style=\"\"><a class=\"filepath\" style=\"display:none\" href=\"#\">/usr/local/lib/python3.10/dist-packages/pandas/core/frame.py</a>Two-dimensional, size-mutable, potentially heterogeneous tabular data.\n",
              "\n",
              "Data structure also contains labeled axes (rows and columns).\n",
              "Arithmetic operations align on both row and column labels. Can be\n",
              "thought of as a dict-like container for Series objects. The primary\n",
              "pandas data structure.\n",
              "\n",
              "Parameters\n",
              "----------\n",
              "data : ndarray (structured or homogeneous), Iterable, dict, or DataFrame\n",
              "    Dict can contain Series, arrays, constants, dataclass or list-like objects. If\n",
              "    data is a dict, column order follows insertion-order. If a dict contains Series\n",
              "    which have an index defined, it is aligned by its index. This alignment also\n",
              "    occurs if data is a Series or a DataFrame itself. Alignment is done on\n",
              "    Series/DataFrame inputs.\n",
              "\n",
              "    If data is a list of dicts, column order follows insertion-order.\n",
              "\n",
              "index : Index or array-like\n",
              "    Index to use for resulting frame. Will default to RangeIndex if\n",
              "    no indexing information part of input data and no index provided.\n",
              "columns : Index or array-like\n",
              "    Column labels to use for resulting frame when data does not have them,\n",
              "    defaulting to RangeIndex(0, 1, 2, ..., n). If data contains column labels,\n",
              "    will perform column selection instead.\n",
              "dtype : dtype, default None\n",
              "    Data type to force. Only a single dtype is allowed. If None, infer.\n",
              "copy : bool or None, default None\n",
              "    Copy data from inputs.\n",
              "    For dict data, the default of None behaves like ``copy=True``.  For DataFrame\n",
              "    or 2d ndarray input, the default of None behaves like ``copy=False``.\n",
              "    If data is a dict containing one or more Series (possibly of different dtypes),\n",
              "    ``copy=False`` will ensure that these inputs are not copied.\n",
              "\n",
              "    .. versionchanged:: 1.3.0\n",
              "\n",
              "See Also\n",
              "--------\n",
              "DataFrame.from_records : Constructor from tuples, also record arrays.\n",
              "DataFrame.from_dict : From dicts of Series, arrays, or dicts.\n",
              "read_csv : Read a comma-separated values (csv) file into DataFrame.\n",
              "read_table : Read general delimited file into DataFrame.\n",
              "read_clipboard : Read text from clipboard into DataFrame.\n",
              "\n",
              "Notes\n",
              "-----\n",
              "Please reference the :ref:`User Guide &lt;basics.dataframe&gt;` for more information.\n",
              "\n",
              "Examples\n",
              "--------\n",
              "Constructing DataFrame from a dictionary.\n",
              "\n",
              "&gt;&gt;&gt; d = {&#x27;col1&#x27;: [1, 2], &#x27;col2&#x27;: [3, 4]}\n",
              "&gt;&gt;&gt; df = pd.DataFrame(data=d)\n",
              "&gt;&gt;&gt; df\n",
              "   col1  col2\n",
              "0     1     3\n",
              "1     2     4\n",
              "\n",
              "Notice that the inferred dtype is int64.\n",
              "\n",
              "&gt;&gt;&gt; df.dtypes\n",
              "col1    int64\n",
              "col2    int64\n",
              "dtype: object\n",
              "\n",
              "To enforce a single dtype:\n",
              "\n",
              "&gt;&gt;&gt; df = pd.DataFrame(data=d, dtype=np.int8)\n",
              "&gt;&gt;&gt; df.dtypes\n",
              "col1    int8\n",
              "col2    int8\n",
              "dtype: object\n",
              "\n",
              "Constructing DataFrame from a dictionary including Series:\n",
              "\n",
              "&gt;&gt;&gt; d = {&#x27;col1&#x27;: [0, 1, 2, 3], &#x27;col2&#x27;: pd.Series([2, 3], index=[2, 3])}\n",
              "&gt;&gt;&gt; pd.DataFrame(data=d, index=[0, 1, 2, 3])\n",
              "   col1  col2\n",
              "0     0   NaN\n",
              "1     1   NaN\n",
              "2     2   2.0\n",
              "3     3   3.0\n",
              "\n",
              "Constructing DataFrame from numpy ndarray:\n",
              "\n",
              "&gt;&gt;&gt; df2 = pd.DataFrame(np.array([[1, 2, 3], [4, 5, 6], [7, 8, 9]]),\n",
              "...                    columns=[&#x27;a&#x27;, &#x27;b&#x27;, &#x27;c&#x27;])\n",
              "&gt;&gt;&gt; df2\n",
              "   a  b  c\n",
              "0  1  2  3\n",
              "1  4  5  6\n",
              "2  7  8  9\n",
              "\n",
              "Constructing DataFrame from a numpy ndarray that has labeled columns:\n",
              "\n",
              "&gt;&gt;&gt; data = np.array([(1, 2, 3), (4, 5, 6), (7, 8, 9)],\n",
              "...                 dtype=[(&quot;a&quot;, &quot;i4&quot;), (&quot;b&quot;, &quot;i4&quot;), (&quot;c&quot;, &quot;i4&quot;)])\n",
              "&gt;&gt;&gt; df3 = pd.DataFrame(data, columns=[&#x27;c&#x27;, &#x27;a&#x27;])\n",
              "...\n",
              "&gt;&gt;&gt; df3\n",
              "   c  a\n",
              "0  3  1\n",
              "1  6  4\n",
              "2  9  7\n",
              "\n",
              "Constructing DataFrame from dataclass:\n",
              "\n",
              "&gt;&gt;&gt; from dataclasses import make_dataclass\n",
              "&gt;&gt;&gt; Point = make_dataclass(&quot;Point&quot;, [(&quot;x&quot;, int), (&quot;y&quot;, int)])\n",
              "&gt;&gt;&gt; pd.DataFrame([Point(0, 0), Point(0, 3), Point(2, 3)])\n",
              "   x  y\n",
              "0  0  0\n",
              "1  0  3\n",
              "2  2  3\n",
              "\n",
              "Constructing DataFrame from Series/DataFrame:\n",
              "\n",
              "&gt;&gt;&gt; ser = pd.Series([1, 2, 3], index=[&quot;a&quot;, &quot;b&quot;, &quot;c&quot;])\n",
              "&gt;&gt;&gt; df = pd.DataFrame(data=ser, index=[&quot;a&quot;, &quot;c&quot;])\n",
              "&gt;&gt;&gt; df\n",
              "   0\n",
              "a  1\n",
              "c  3\n",
              "\n",
              "&gt;&gt;&gt; df1 = pd.DataFrame([1, 2, 3], index=[&quot;a&quot;, &quot;b&quot;, &quot;c&quot;], columns=[&quot;x&quot;])\n",
              "&gt;&gt;&gt; df2 = pd.DataFrame(data=df1, index=[&quot;a&quot;, &quot;c&quot;])\n",
              "&gt;&gt;&gt; df2\n",
              "   x\n",
              "a  1\n",
              "c  3</pre>\n",
              "      <script>\n",
              "      if (google.colab.kernel.accessAllowed && google.colab.files && google.colab.files.view) {\n",
              "        for (const element of document.querySelectorAll('.filepath')) {\n",
              "          element.style.display = 'block'\n",
              "          element.onclick = (event) => {\n",
              "            event.preventDefault();\n",
              "            event.stopPropagation();\n",
              "            google.colab.files.view(element.textContent, 490);\n",
              "          };\n",
              "        }\n",
              "      }\n",
              "      for (const element of document.querySelectorAll('.function-repr-contents')) {\n",
              "        element.onclick = (event) => {\n",
              "          event.preventDefault();\n",
              "          event.stopPropagation();\n",
              "          element.classList.toggle('function-repr-contents-collapsed');\n",
              "        };\n",
              "      }\n",
              "      </script>\n",
              "      </div>"
            ]
          },
          "metadata": {},
          "execution_count": 3
        }
      ]
    },
    {
      "cell_type": "code",
      "source": [
        "dataset.shape"
      ],
      "metadata": {
        "colab": {
          "base_uri": "https://localhost:8080/"
        },
        "id": "FHqlAhKzO-0b",
        "outputId": "8b6bf741-c9fd-402d-f2a4-661f9559cc62"
      },
      "execution_count": 4,
      "outputs": [
        {
          "output_type": "execute_result",
          "data": {
            "text/plain": [
              "(303, 14)"
            ]
          },
          "metadata": {},
          "execution_count": 4
        }
      ]
    },
    {
      "cell_type": "code",
      "source": [
        "dataset.head(5)"
      ],
      "metadata": {
        "colab": {
          "base_uri": "https://localhost:8080/",
          "height": 206
        },
        "id": "Uvl2Qt_GPAjo",
        "outputId": "9abebfb7-031d-4147-992e-0100eb199419"
      },
      "execution_count": 5,
      "outputs": [
        {
          "output_type": "execute_result",
          "data": {
            "text/plain": [
              "   age  sex  cp  trestbps  chol  fbs  restecg  thalach  exang  oldpeak  slope  \\\n",
              "0   63    1   3       145   233    1        0      150      0      2.3      0   \n",
              "1   37    1   2       130   250    0        1      187      0      3.5      0   \n",
              "2   41    0   1       130   204    0        0      172      0      1.4      2   \n",
              "3   56    1   1       120   236    0        1      178      0      0.8      2   \n",
              "4   57    0   0       120   354    0        1      163      1      0.6      2   \n",
              "\n",
              "   ca  thal  target  \n",
              "0   0     1       1  \n",
              "1   0     2       1  \n",
              "2   0     2       1  \n",
              "3   0     2       1  \n",
              "4   0     2       1  "
            ],
            "text/html": [
              "\n",
              "  <div id=\"df-6e64a4c0-9a93-4b44-9bc5-4a1c2f55e1f9\" class=\"colab-df-container\">\n",
              "    <div>\n",
              "<style scoped>\n",
              "    .dataframe tbody tr th:only-of-type {\n",
              "        vertical-align: middle;\n",
              "    }\n",
              "\n",
              "    .dataframe tbody tr th {\n",
              "        vertical-align: top;\n",
              "    }\n",
              "\n",
              "    .dataframe thead th {\n",
              "        text-align: right;\n",
              "    }\n",
              "</style>\n",
              "<table border=\"1\" class=\"dataframe\">\n",
              "  <thead>\n",
              "    <tr style=\"text-align: right;\">\n",
              "      <th></th>\n",
              "      <th>age</th>\n",
              "      <th>sex</th>\n",
              "      <th>cp</th>\n",
              "      <th>trestbps</th>\n",
              "      <th>chol</th>\n",
              "      <th>fbs</th>\n",
              "      <th>restecg</th>\n",
              "      <th>thalach</th>\n",
              "      <th>exang</th>\n",
              "      <th>oldpeak</th>\n",
              "      <th>slope</th>\n",
              "      <th>ca</th>\n",
              "      <th>thal</th>\n",
              "      <th>target</th>\n",
              "    </tr>\n",
              "  </thead>\n",
              "  <tbody>\n",
              "    <tr>\n",
              "      <th>0</th>\n",
              "      <td>63</td>\n",
              "      <td>1</td>\n",
              "      <td>3</td>\n",
              "      <td>145</td>\n",
              "      <td>233</td>\n",
              "      <td>1</td>\n",
              "      <td>0</td>\n",
              "      <td>150</td>\n",
              "      <td>0</td>\n",
              "      <td>2.3</td>\n",
              "      <td>0</td>\n",
              "      <td>0</td>\n",
              "      <td>1</td>\n",
              "      <td>1</td>\n",
              "    </tr>\n",
              "    <tr>\n",
              "      <th>1</th>\n",
              "      <td>37</td>\n",
              "      <td>1</td>\n",
              "      <td>2</td>\n",
              "      <td>130</td>\n",
              "      <td>250</td>\n",
              "      <td>0</td>\n",
              "      <td>1</td>\n",
              "      <td>187</td>\n",
              "      <td>0</td>\n",
              "      <td>3.5</td>\n",
              "      <td>0</td>\n",
              "      <td>0</td>\n",
              "      <td>2</td>\n",
              "      <td>1</td>\n",
              "    </tr>\n",
              "    <tr>\n",
              "      <th>2</th>\n",
              "      <td>41</td>\n",
              "      <td>0</td>\n",
              "      <td>1</td>\n",
              "      <td>130</td>\n",
              "      <td>204</td>\n",
              "      <td>0</td>\n",
              "      <td>0</td>\n",
              "      <td>172</td>\n",
              "      <td>0</td>\n",
              "      <td>1.4</td>\n",
              "      <td>2</td>\n",
              "      <td>0</td>\n",
              "      <td>2</td>\n",
              "      <td>1</td>\n",
              "    </tr>\n",
              "    <tr>\n",
              "      <th>3</th>\n",
              "      <td>56</td>\n",
              "      <td>1</td>\n",
              "      <td>1</td>\n",
              "      <td>120</td>\n",
              "      <td>236</td>\n",
              "      <td>0</td>\n",
              "      <td>1</td>\n",
              "      <td>178</td>\n",
              "      <td>0</td>\n",
              "      <td>0.8</td>\n",
              "      <td>2</td>\n",
              "      <td>0</td>\n",
              "      <td>2</td>\n",
              "      <td>1</td>\n",
              "    </tr>\n",
              "    <tr>\n",
              "      <th>4</th>\n",
              "      <td>57</td>\n",
              "      <td>0</td>\n",
              "      <td>0</td>\n",
              "      <td>120</td>\n",
              "      <td>354</td>\n",
              "      <td>0</td>\n",
              "      <td>1</td>\n",
              "      <td>163</td>\n",
              "      <td>1</td>\n",
              "      <td>0.6</td>\n",
              "      <td>2</td>\n",
              "      <td>0</td>\n",
              "      <td>2</td>\n",
              "      <td>1</td>\n",
              "    </tr>\n",
              "  </tbody>\n",
              "</table>\n",
              "</div>\n",
              "    <div class=\"colab-df-buttons\">\n",
              "\n",
              "  <div class=\"colab-df-container\">\n",
              "    <button class=\"colab-df-convert\" onclick=\"convertToInteractive('df-6e64a4c0-9a93-4b44-9bc5-4a1c2f55e1f9')\"\n",
              "            title=\"Convert this dataframe to an interactive table.\"\n",
              "            style=\"display:none;\">\n",
              "\n",
              "  <svg xmlns=\"http://www.w3.org/2000/svg\" height=\"24px\" viewBox=\"0 -960 960 960\">\n",
              "    <path d=\"M120-120v-720h720v720H120Zm60-500h600v-160H180v160Zm220 220h160v-160H400v160Zm0 220h160v-160H400v160ZM180-400h160v-160H180v160Zm440 0h160v-160H620v160ZM180-180h160v-160H180v160Zm440 0h160v-160H620v160Z\"/>\n",
              "  </svg>\n",
              "    </button>\n",
              "\n",
              "  <style>\n",
              "    .colab-df-container {\n",
              "      display:flex;\n",
              "      gap: 12px;\n",
              "    }\n",
              "\n",
              "    .colab-df-convert {\n",
              "      background-color: #E8F0FE;\n",
              "      border: none;\n",
              "      border-radius: 50%;\n",
              "      cursor: pointer;\n",
              "      display: none;\n",
              "      fill: #1967D2;\n",
              "      height: 32px;\n",
              "      padding: 0 0 0 0;\n",
              "      width: 32px;\n",
              "    }\n",
              "\n",
              "    .colab-df-convert:hover {\n",
              "      background-color: #E2EBFA;\n",
              "      box-shadow: 0px 1px 2px rgba(60, 64, 67, 0.3), 0px 1px 3px 1px rgba(60, 64, 67, 0.15);\n",
              "      fill: #174EA6;\n",
              "    }\n",
              "\n",
              "    .colab-df-buttons div {\n",
              "      margin-bottom: 4px;\n",
              "    }\n",
              "\n",
              "    [theme=dark] .colab-df-convert {\n",
              "      background-color: #3B4455;\n",
              "      fill: #D2E3FC;\n",
              "    }\n",
              "\n",
              "    [theme=dark] .colab-df-convert:hover {\n",
              "      background-color: #434B5C;\n",
              "      box-shadow: 0px 1px 3px 1px rgba(0, 0, 0, 0.15);\n",
              "      filter: drop-shadow(0px 1px 2px rgba(0, 0, 0, 0.3));\n",
              "      fill: #FFFFFF;\n",
              "    }\n",
              "  </style>\n",
              "\n",
              "    <script>\n",
              "      const buttonEl =\n",
              "        document.querySelector('#df-6e64a4c0-9a93-4b44-9bc5-4a1c2f55e1f9 button.colab-df-convert');\n",
              "      buttonEl.style.display =\n",
              "        google.colab.kernel.accessAllowed ? 'block' : 'none';\n",
              "\n",
              "      async function convertToInteractive(key) {\n",
              "        const element = document.querySelector('#df-6e64a4c0-9a93-4b44-9bc5-4a1c2f55e1f9');\n",
              "        const dataTable =\n",
              "          await google.colab.kernel.invokeFunction('convertToInteractive',\n",
              "                                                    [key], {});\n",
              "        if (!dataTable) return;\n",
              "\n",
              "        const docLinkHtml = 'Like what you see? Visit the ' +\n",
              "          '<a target=\"_blank\" href=https://colab.research.google.com/notebooks/data_table.ipynb>data table notebook</a>'\n",
              "          + ' to learn more about interactive tables.';\n",
              "        element.innerHTML = '';\n",
              "        dataTable['output_type'] = 'display_data';\n",
              "        await google.colab.output.renderOutput(dataTable, element);\n",
              "        const docLink = document.createElement('div');\n",
              "        docLink.innerHTML = docLinkHtml;\n",
              "        element.appendChild(docLink);\n",
              "      }\n",
              "    </script>\n",
              "  </div>\n",
              "\n",
              "\n",
              "<div id=\"df-822b5c22-a4ed-455f-bacd-d629abd30d1f\">\n",
              "  <button class=\"colab-df-quickchart\" onclick=\"quickchart('df-822b5c22-a4ed-455f-bacd-d629abd30d1f')\"\n",
              "            title=\"Suggest charts\"\n",
              "            style=\"display:none;\">\n",
              "\n",
              "<svg xmlns=\"http://www.w3.org/2000/svg\" height=\"24px\"viewBox=\"0 0 24 24\"\n",
              "     width=\"24px\">\n",
              "    <g>\n",
              "        <path d=\"M19 3H5c-1.1 0-2 .9-2 2v14c0 1.1.9 2 2 2h14c1.1 0 2-.9 2-2V5c0-1.1-.9-2-2-2zM9 17H7v-7h2v7zm4 0h-2V7h2v10zm4 0h-2v-4h2v4z\"/>\n",
              "    </g>\n",
              "</svg>\n",
              "  </button>\n",
              "\n",
              "<style>\n",
              "  .colab-df-quickchart {\n",
              "      --bg-color: #E8F0FE;\n",
              "      --fill-color: #1967D2;\n",
              "      --hover-bg-color: #E2EBFA;\n",
              "      --hover-fill-color: #174EA6;\n",
              "      --disabled-fill-color: #AAA;\n",
              "      --disabled-bg-color: #DDD;\n",
              "  }\n",
              "\n",
              "  [theme=dark] .colab-df-quickchart {\n",
              "      --bg-color: #3B4455;\n",
              "      --fill-color: #D2E3FC;\n",
              "      --hover-bg-color: #434B5C;\n",
              "      --hover-fill-color: #FFFFFF;\n",
              "      --disabled-bg-color: #3B4455;\n",
              "      --disabled-fill-color: #666;\n",
              "  }\n",
              "\n",
              "  .colab-df-quickchart {\n",
              "    background-color: var(--bg-color);\n",
              "    border: none;\n",
              "    border-radius: 50%;\n",
              "    cursor: pointer;\n",
              "    display: none;\n",
              "    fill: var(--fill-color);\n",
              "    height: 32px;\n",
              "    padding: 0;\n",
              "    width: 32px;\n",
              "  }\n",
              "\n",
              "  .colab-df-quickchart:hover {\n",
              "    background-color: var(--hover-bg-color);\n",
              "    box-shadow: 0 1px 2px rgba(60, 64, 67, 0.3), 0 1px 3px 1px rgba(60, 64, 67, 0.15);\n",
              "    fill: var(--button-hover-fill-color);\n",
              "  }\n",
              "\n",
              "  .colab-df-quickchart-complete:disabled,\n",
              "  .colab-df-quickchart-complete:disabled:hover {\n",
              "    background-color: var(--disabled-bg-color);\n",
              "    fill: var(--disabled-fill-color);\n",
              "    box-shadow: none;\n",
              "  }\n",
              "\n",
              "  .colab-df-spinner {\n",
              "    border: 2px solid var(--fill-color);\n",
              "    border-color: transparent;\n",
              "    border-bottom-color: var(--fill-color);\n",
              "    animation:\n",
              "      spin 1s steps(1) infinite;\n",
              "  }\n",
              "\n",
              "  @keyframes spin {\n",
              "    0% {\n",
              "      border-color: transparent;\n",
              "      border-bottom-color: var(--fill-color);\n",
              "      border-left-color: var(--fill-color);\n",
              "    }\n",
              "    20% {\n",
              "      border-color: transparent;\n",
              "      border-left-color: var(--fill-color);\n",
              "      border-top-color: var(--fill-color);\n",
              "    }\n",
              "    30% {\n",
              "      border-color: transparent;\n",
              "      border-left-color: var(--fill-color);\n",
              "      border-top-color: var(--fill-color);\n",
              "      border-right-color: var(--fill-color);\n",
              "    }\n",
              "    40% {\n",
              "      border-color: transparent;\n",
              "      border-right-color: var(--fill-color);\n",
              "      border-top-color: var(--fill-color);\n",
              "    }\n",
              "    60% {\n",
              "      border-color: transparent;\n",
              "      border-right-color: var(--fill-color);\n",
              "    }\n",
              "    80% {\n",
              "      border-color: transparent;\n",
              "      border-right-color: var(--fill-color);\n",
              "      border-bottom-color: var(--fill-color);\n",
              "    }\n",
              "    90% {\n",
              "      border-color: transparent;\n",
              "      border-bottom-color: var(--fill-color);\n",
              "    }\n",
              "  }\n",
              "</style>\n",
              "\n",
              "  <script>\n",
              "    async function quickchart(key) {\n",
              "      const quickchartButtonEl =\n",
              "        document.querySelector('#' + key + ' button');\n",
              "      quickchartButtonEl.disabled = true;  // To prevent multiple clicks.\n",
              "      quickchartButtonEl.classList.add('colab-df-spinner');\n",
              "      try {\n",
              "        const charts = await google.colab.kernel.invokeFunction(\n",
              "            'suggestCharts', [key], {});\n",
              "      } catch (error) {\n",
              "        console.error('Error during call to suggestCharts:', error);\n",
              "      }\n",
              "      quickchartButtonEl.classList.remove('colab-df-spinner');\n",
              "      quickchartButtonEl.classList.add('colab-df-quickchart-complete');\n",
              "    }\n",
              "    (() => {\n",
              "      let quickchartButtonEl =\n",
              "        document.querySelector('#df-822b5c22-a4ed-455f-bacd-d629abd30d1f button');\n",
              "      quickchartButtonEl.style.display =\n",
              "        google.colab.kernel.accessAllowed ? 'block' : 'none';\n",
              "    })();\n",
              "  </script>\n",
              "</div>\n",
              "\n",
              "    </div>\n",
              "  </div>\n"
            ],
            "application/vnd.google.colaboratory.intrinsic+json": {
              "type": "dataframe",
              "variable_name": "dataset",
              "summary": "{\n  \"name\": \"dataset\",\n  \"rows\": 303,\n  \"fields\": [\n    {\n      \"column\": \"age\",\n      \"properties\": {\n        \"dtype\": \"number\",\n        \"std\": 9,\n        \"min\": 29,\n        \"max\": 77,\n        \"num_unique_values\": 41,\n        \"samples\": [\n          46,\n          66,\n          48\n        ],\n        \"semantic_type\": \"\",\n        \"description\": \"\"\n      }\n    },\n    {\n      \"column\": \"sex\",\n      \"properties\": {\n        \"dtype\": \"number\",\n        \"std\": 0,\n        \"min\": 0,\n        \"max\": 1,\n        \"num_unique_values\": 2,\n        \"samples\": [\n          0,\n          1\n        ],\n        \"semantic_type\": \"\",\n        \"description\": \"\"\n      }\n    },\n    {\n      \"column\": \"cp\",\n      \"properties\": {\n        \"dtype\": \"number\",\n        \"std\": 1,\n        \"min\": 0,\n        \"max\": 3,\n        \"num_unique_values\": 4,\n        \"samples\": [\n          2,\n          0\n        ],\n        \"semantic_type\": \"\",\n        \"description\": \"\"\n      }\n    },\n    {\n      \"column\": \"trestbps\",\n      \"properties\": {\n        \"dtype\": \"number\",\n        \"std\": 17,\n        \"min\": 94,\n        \"max\": 200,\n        \"num_unique_values\": 49,\n        \"samples\": [\n          104,\n          123\n        ],\n        \"semantic_type\": \"\",\n        \"description\": \"\"\n      }\n    },\n    {\n      \"column\": \"chol\",\n      \"properties\": {\n        \"dtype\": \"number\",\n        \"std\": 51,\n        \"min\": 126,\n        \"max\": 564,\n        \"num_unique_values\": 152,\n        \"samples\": [\n          277,\n          169\n        ],\n        \"semantic_type\": \"\",\n        \"description\": \"\"\n      }\n    },\n    {\n      \"column\": \"fbs\",\n      \"properties\": {\n        \"dtype\": \"number\",\n        \"std\": 0,\n        \"min\": 0,\n        \"max\": 1,\n        \"num_unique_values\": 2,\n        \"samples\": [\n          0,\n          1\n        ],\n        \"semantic_type\": \"\",\n        \"description\": \"\"\n      }\n    },\n    {\n      \"column\": \"restecg\",\n      \"properties\": {\n        \"dtype\": \"number\",\n        \"std\": 0,\n        \"min\": 0,\n        \"max\": 2,\n        \"num_unique_values\": 3,\n        \"samples\": [\n          0,\n          1\n        ],\n        \"semantic_type\": \"\",\n        \"description\": \"\"\n      }\n    },\n    {\n      \"column\": \"thalach\",\n      \"properties\": {\n        \"dtype\": \"number\",\n        \"std\": 22,\n        \"min\": 71,\n        \"max\": 202,\n        \"num_unique_values\": 91,\n        \"samples\": [\n          159,\n          152\n        ],\n        \"semantic_type\": \"\",\n        \"description\": \"\"\n      }\n    },\n    {\n      \"column\": \"exang\",\n      \"properties\": {\n        \"dtype\": \"number\",\n        \"std\": 0,\n        \"min\": 0,\n        \"max\": 1,\n        \"num_unique_values\": 2,\n        \"samples\": [\n          1,\n          0\n        ],\n        \"semantic_type\": \"\",\n        \"description\": \"\"\n      }\n    },\n    {\n      \"column\": \"oldpeak\",\n      \"properties\": {\n        \"dtype\": \"number\",\n        \"std\": 1.1610750220686348,\n        \"min\": 0.0,\n        \"max\": 6.2,\n        \"num_unique_values\": 40,\n        \"samples\": [\n          1.9,\n          3.0\n        ],\n        \"semantic_type\": \"\",\n        \"description\": \"\"\n      }\n    },\n    {\n      \"column\": \"slope\",\n      \"properties\": {\n        \"dtype\": \"number\",\n        \"std\": 0,\n        \"min\": 0,\n        \"max\": 2,\n        \"num_unique_values\": 3,\n        \"samples\": [\n          0,\n          2\n        ],\n        \"semantic_type\": \"\",\n        \"description\": \"\"\n      }\n    },\n    {\n      \"column\": \"ca\",\n      \"properties\": {\n        \"dtype\": \"number\",\n        \"std\": 1,\n        \"min\": 0,\n        \"max\": 4,\n        \"num_unique_values\": 5,\n        \"samples\": [\n          2,\n          4\n        ],\n        \"semantic_type\": \"\",\n        \"description\": \"\"\n      }\n    },\n    {\n      \"column\": \"thal\",\n      \"properties\": {\n        \"dtype\": \"number\",\n        \"std\": 0,\n        \"min\": 0,\n        \"max\": 3,\n        \"num_unique_values\": 4,\n        \"samples\": [\n          2,\n          0\n        ],\n        \"semantic_type\": \"\",\n        \"description\": \"\"\n      }\n    },\n    {\n      \"column\": \"target\",\n      \"properties\": {\n        \"dtype\": \"number\",\n        \"std\": 0,\n        \"min\": 0,\n        \"max\": 1,\n        \"num_unique_values\": 2,\n        \"samples\": [\n          0,\n          1\n        ],\n        \"semantic_type\": \"\",\n        \"description\": \"\"\n      }\n    }\n  ]\n}"
            }
          },
          "metadata": {},
          "execution_count": 5
        }
      ]
    },
    {
      "cell_type": "code",
      "source": [
        "dataset.sample(5)"
      ],
      "metadata": {
        "colab": {
          "base_uri": "https://localhost:8080/",
          "height": 206
        },
        "id": "g6ZiCAH2PB87",
        "outputId": "4b911a29-17ca-4855-ed41-9cfa5541cbc9"
      },
      "execution_count": 6,
      "outputs": [
        {
          "output_type": "execute_result",
          "data": {
            "text/plain": [
              "     age  sex  cp  trestbps  chol  fbs  restecg  thalach  exang  oldpeak  \\\n",
              "206   59    1   0       110   239    0        0      142      1      1.2   \n",
              "1     37    1   2       130   250    0        1      187      0      3.5   \n",
              "176   60    1   0       117   230    1        1      160      1      1.4   \n",
              "166   67    1   0       120   229    0        0      129      1      2.6   \n",
              "75    55    0   1       135   250    0        0      161      0      1.4   \n",
              "\n",
              "     slope  ca  thal  target  \n",
              "206      1   1     3       0  \n",
              "1        0   0     2       1  \n",
              "176      2   2     3       0  \n",
              "166      1   2     3       0  \n",
              "75       1   0     2       1  "
            ],
            "text/html": [
              "\n",
              "  <div id=\"df-839989d6-7b80-4bf3-88fd-beea7bfe794c\" class=\"colab-df-container\">\n",
              "    <div>\n",
              "<style scoped>\n",
              "    .dataframe tbody tr th:only-of-type {\n",
              "        vertical-align: middle;\n",
              "    }\n",
              "\n",
              "    .dataframe tbody tr th {\n",
              "        vertical-align: top;\n",
              "    }\n",
              "\n",
              "    .dataframe thead th {\n",
              "        text-align: right;\n",
              "    }\n",
              "</style>\n",
              "<table border=\"1\" class=\"dataframe\">\n",
              "  <thead>\n",
              "    <tr style=\"text-align: right;\">\n",
              "      <th></th>\n",
              "      <th>age</th>\n",
              "      <th>sex</th>\n",
              "      <th>cp</th>\n",
              "      <th>trestbps</th>\n",
              "      <th>chol</th>\n",
              "      <th>fbs</th>\n",
              "      <th>restecg</th>\n",
              "      <th>thalach</th>\n",
              "      <th>exang</th>\n",
              "      <th>oldpeak</th>\n",
              "      <th>slope</th>\n",
              "      <th>ca</th>\n",
              "      <th>thal</th>\n",
              "      <th>target</th>\n",
              "    </tr>\n",
              "  </thead>\n",
              "  <tbody>\n",
              "    <tr>\n",
              "      <th>206</th>\n",
              "      <td>59</td>\n",
              "      <td>1</td>\n",
              "      <td>0</td>\n",
              "      <td>110</td>\n",
              "      <td>239</td>\n",
              "      <td>0</td>\n",
              "      <td>0</td>\n",
              "      <td>142</td>\n",
              "      <td>1</td>\n",
              "      <td>1.2</td>\n",
              "      <td>1</td>\n",
              "      <td>1</td>\n",
              "      <td>3</td>\n",
              "      <td>0</td>\n",
              "    </tr>\n",
              "    <tr>\n",
              "      <th>1</th>\n",
              "      <td>37</td>\n",
              "      <td>1</td>\n",
              "      <td>2</td>\n",
              "      <td>130</td>\n",
              "      <td>250</td>\n",
              "      <td>0</td>\n",
              "      <td>1</td>\n",
              "      <td>187</td>\n",
              "      <td>0</td>\n",
              "      <td>3.5</td>\n",
              "      <td>0</td>\n",
              "      <td>0</td>\n",
              "      <td>2</td>\n",
              "      <td>1</td>\n",
              "    </tr>\n",
              "    <tr>\n",
              "      <th>176</th>\n",
              "      <td>60</td>\n",
              "      <td>1</td>\n",
              "      <td>0</td>\n",
              "      <td>117</td>\n",
              "      <td>230</td>\n",
              "      <td>1</td>\n",
              "      <td>1</td>\n",
              "      <td>160</td>\n",
              "      <td>1</td>\n",
              "      <td>1.4</td>\n",
              "      <td>2</td>\n",
              "      <td>2</td>\n",
              "      <td>3</td>\n",
              "      <td>0</td>\n",
              "    </tr>\n",
              "    <tr>\n",
              "      <th>166</th>\n",
              "      <td>67</td>\n",
              "      <td>1</td>\n",
              "      <td>0</td>\n",
              "      <td>120</td>\n",
              "      <td>229</td>\n",
              "      <td>0</td>\n",
              "      <td>0</td>\n",
              "      <td>129</td>\n",
              "      <td>1</td>\n",
              "      <td>2.6</td>\n",
              "      <td>1</td>\n",
              "      <td>2</td>\n",
              "      <td>3</td>\n",
              "      <td>0</td>\n",
              "    </tr>\n",
              "    <tr>\n",
              "      <th>75</th>\n",
              "      <td>55</td>\n",
              "      <td>0</td>\n",
              "      <td>1</td>\n",
              "      <td>135</td>\n",
              "      <td>250</td>\n",
              "      <td>0</td>\n",
              "      <td>0</td>\n",
              "      <td>161</td>\n",
              "      <td>0</td>\n",
              "      <td>1.4</td>\n",
              "      <td>1</td>\n",
              "      <td>0</td>\n",
              "      <td>2</td>\n",
              "      <td>1</td>\n",
              "    </tr>\n",
              "  </tbody>\n",
              "</table>\n",
              "</div>\n",
              "    <div class=\"colab-df-buttons\">\n",
              "\n",
              "  <div class=\"colab-df-container\">\n",
              "    <button class=\"colab-df-convert\" onclick=\"convertToInteractive('df-839989d6-7b80-4bf3-88fd-beea7bfe794c')\"\n",
              "            title=\"Convert this dataframe to an interactive table.\"\n",
              "            style=\"display:none;\">\n",
              "\n",
              "  <svg xmlns=\"http://www.w3.org/2000/svg\" height=\"24px\" viewBox=\"0 -960 960 960\">\n",
              "    <path d=\"M120-120v-720h720v720H120Zm60-500h600v-160H180v160Zm220 220h160v-160H400v160Zm0 220h160v-160H400v160ZM180-400h160v-160H180v160Zm440 0h160v-160H620v160ZM180-180h160v-160H180v160Zm440 0h160v-160H620v160Z\"/>\n",
              "  </svg>\n",
              "    </button>\n",
              "\n",
              "  <style>\n",
              "    .colab-df-container {\n",
              "      display:flex;\n",
              "      gap: 12px;\n",
              "    }\n",
              "\n",
              "    .colab-df-convert {\n",
              "      background-color: #E8F0FE;\n",
              "      border: none;\n",
              "      border-radius: 50%;\n",
              "      cursor: pointer;\n",
              "      display: none;\n",
              "      fill: #1967D2;\n",
              "      height: 32px;\n",
              "      padding: 0 0 0 0;\n",
              "      width: 32px;\n",
              "    }\n",
              "\n",
              "    .colab-df-convert:hover {\n",
              "      background-color: #E2EBFA;\n",
              "      box-shadow: 0px 1px 2px rgba(60, 64, 67, 0.3), 0px 1px 3px 1px rgba(60, 64, 67, 0.15);\n",
              "      fill: #174EA6;\n",
              "    }\n",
              "\n",
              "    .colab-df-buttons div {\n",
              "      margin-bottom: 4px;\n",
              "    }\n",
              "\n",
              "    [theme=dark] .colab-df-convert {\n",
              "      background-color: #3B4455;\n",
              "      fill: #D2E3FC;\n",
              "    }\n",
              "\n",
              "    [theme=dark] .colab-df-convert:hover {\n",
              "      background-color: #434B5C;\n",
              "      box-shadow: 0px 1px 3px 1px rgba(0, 0, 0, 0.15);\n",
              "      filter: drop-shadow(0px 1px 2px rgba(0, 0, 0, 0.3));\n",
              "      fill: #FFFFFF;\n",
              "    }\n",
              "  </style>\n",
              "\n",
              "    <script>\n",
              "      const buttonEl =\n",
              "        document.querySelector('#df-839989d6-7b80-4bf3-88fd-beea7bfe794c button.colab-df-convert');\n",
              "      buttonEl.style.display =\n",
              "        google.colab.kernel.accessAllowed ? 'block' : 'none';\n",
              "\n",
              "      async function convertToInteractive(key) {\n",
              "        const element = document.querySelector('#df-839989d6-7b80-4bf3-88fd-beea7bfe794c');\n",
              "        const dataTable =\n",
              "          await google.colab.kernel.invokeFunction('convertToInteractive',\n",
              "                                                    [key], {});\n",
              "        if (!dataTable) return;\n",
              "\n",
              "        const docLinkHtml = 'Like what you see? Visit the ' +\n",
              "          '<a target=\"_blank\" href=https://colab.research.google.com/notebooks/data_table.ipynb>data table notebook</a>'\n",
              "          + ' to learn more about interactive tables.';\n",
              "        element.innerHTML = '';\n",
              "        dataTable['output_type'] = 'display_data';\n",
              "        await google.colab.output.renderOutput(dataTable, element);\n",
              "        const docLink = document.createElement('div');\n",
              "        docLink.innerHTML = docLinkHtml;\n",
              "        element.appendChild(docLink);\n",
              "      }\n",
              "    </script>\n",
              "  </div>\n",
              "\n",
              "\n",
              "<div id=\"df-ad18e426-83af-4261-8f81-9a50d0f2588b\">\n",
              "  <button class=\"colab-df-quickchart\" onclick=\"quickchart('df-ad18e426-83af-4261-8f81-9a50d0f2588b')\"\n",
              "            title=\"Suggest charts\"\n",
              "            style=\"display:none;\">\n",
              "\n",
              "<svg xmlns=\"http://www.w3.org/2000/svg\" height=\"24px\"viewBox=\"0 0 24 24\"\n",
              "     width=\"24px\">\n",
              "    <g>\n",
              "        <path d=\"M19 3H5c-1.1 0-2 .9-2 2v14c0 1.1.9 2 2 2h14c1.1 0 2-.9 2-2V5c0-1.1-.9-2-2-2zM9 17H7v-7h2v7zm4 0h-2V7h2v10zm4 0h-2v-4h2v4z\"/>\n",
              "    </g>\n",
              "</svg>\n",
              "  </button>\n",
              "\n",
              "<style>\n",
              "  .colab-df-quickchart {\n",
              "      --bg-color: #E8F0FE;\n",
              "      --fill-color: #1967D2;\n",
              "      --hover-bg-color: #E2EBFA;\n",
              "      --hover-fill-color: #174EA6;\n",
              "      --disabled-fill-color: #AAA;\n",
              "      --disabled-bg-color: #DDD;\n",
              "  }\n",
              "\n",
              "  [theme=dark] .colab-df-quickchart {\n",
              "      --bg-color: #3B4455;\n",
              "      --fill-color: #D2E3FC;\n",
              "      --hover-bg-color: #434B5C;\n",
              "      --hover-fill-color: #FFFFFF;\n",
              "      --disabled-bg-color: #3B4455;\n",
              "      --disabled-fill-color: #666;\n",
              "  }\n",
              "\n",
              "  .colab-df-quickchart {\n",
              "    background-color: var(--bg-color);\n",
              "    border: none;\n",
              "    border-radius: 50%;\n",
              "    cursor: pointer;\n",
              "    display: none;\n",
              "    fill: var(--fill-color);\n",
              "    height: 32px;\n",
              "    padding: 0;\n",
              "    width: 32px;\n",
              "  }\n",
              "\n",
              "  .colab-df-quickchart:hover {\n",
              "    background-color: var(--hover-bg-color);\n",
              "    box-shadow: 0 1px 2px rgba(60, 64, 67, 0.3), 0 1px 3px 1px rgba(60, 64, 67, 0.15);\n",
              "    fill: var(--button-hover-fill-color);\n",
              "  }\n",
              "\n",
              "  .colab-df-quickchart-complete:disabled,\n",
              "  .colab-df-quickchart-complete:disabled:hover {\n",
              "    background-color: var(--disabled-bg-color);\n",
              "    fill: var(--disabled-fill-color);\n",
              "    box-shadow: none;\n",
              "  }\n",
              "\n",
              "  .colab-df-spinner {\n",
              "    border: 2px solid var(--fill-color);\n",
              "    border-color: transparent;\n",
              "    border-bottom-color: var(--fill-color);\n",
              "    animation:\n",
              "      spin 1s steps(1) infinite;\n",
              "  }\n",
              "\n",
              "  @keyframes spin {\n",
              "    0% {\n",
              "      border-color: transparent;\n",
              "      border-bottom-color: var(--fill-color);\n",
              "      border-left-color: var(--fill-color);\n",
              "    }\n",
              "    20% {\n",
              "      border-color: transparent;\n",
              "      border-left-color: var(--fill-color);\n",
              "      border-top-color: var(--fill-color);\n",
              "    }\n",
              "    30% {\n",
              "      border-color: transparent;\n",
              "      border-left-color: var(--fill-color);\n",
              "      border-top-color: var(--fill-color);\n",
              "      border-right-color: var(--fill-color);\n",
              "    }\n",
              "    40% {\n",
              "      border-color: transparent;\n",
              "      border-right-color: var(--fill-color);\n",
              "      border-top-color: var(--fill-color);\n",
              "    }\n",
              "    60% {\n",
              "      border-color: transparent;\n",
              "      border-right-color: var(--fill-color);\n",
              "    }\n",
              "    80% {\n",
              "      border-color: transparent;\n",
              "      border-right-color: var(--fill-color);\n",
              "      border-bottom-color: var(--fill-color);\n",
              "    }\n",
              "    90% {\n",
              "      border-color: transparent;\n",
              "      border-bottom-color: var(--fill-color);\n",
              "    }\n",
              "  }\n",
              "</style>\n",
              "\n",
              "  <script>\n",
              "    async function quickchart(key) {\n",
              "      const quickchartButtonEl =\n",
              "        document.querySelector('#' + key + ' button');\n",
              "      quickchartButtonEl.disabled = true;  // To prevent multiple clicks.\n",
              "      quickchartButtonEl.classList.add('colab-df-spinner');\n",
              "      try {\n",
              "        const charts = await google.colab.kernel.invokeFunction(\n",
              "            'suggestCharts', [key], {});\n",
              "      } catch (error) {\n",
              "        console.error('Error during call to suggestCharts:', error);\n",
              "      }\n",
              "      quickchartButtonEl.classList.remove('colab-df-spinner');\n",
              "      quickchartButtonEl.classList.add('colab-df-quickchart-complete');\n",
              "    }\n",
              "    (() => {\n",
              "      let quickchartButtonEl =\n",
              "        document.querySelector('#df-ad18e426-83af-4261-8f81-9a50d0f2588b button');\n",
              "      quickchartButtonEl.style.display =\n",
              "        google.colab.kernel.accessAllowed ? 'block' : 'none';\n",
              "    })();\n",
              "  </script>\n",
              "</div>\n",
              "\n",
              "    </div>\n",
              "  </div>\n"
            ],
            "application/vnd.google.colaboratory.intrinsic+json": {
              "type": "dataframe",
              "summary": "{\n  \"name\": \"dataset\",\n  \"rows\": 5,\n  \"fields\": [\n    {\n      \"column\": \"age\",\n      \"properties\": {\n        \"dtype\": \"number\",\n        \"std\": 11,\n        \"min\": 37,\n        \"max\": 67,\n        \"num_unique_values\": 5,\n        \"samples\": [\n          37,\n          55,\n          60\n        ],\n        \"semantic_type\": \"\",\n        \"description\": \"\"\n      }\n    },\n    {\n      \"column\": \"sex\",\n      \"properties\": {\n        \"dtype\": \"number\",\n        \"std\": 0,\n        \"min\": 0,\n        \"max\": 1,\n        \"num_unique_values\": 2,\n        \"samples\": [\n          0,\n          1\n        ],\n        \"semantic_type\": \"\",\n        \"description\": \"\"\n      }\n    },\n    {\n      \"column\": \"cp\",\n      \"properties\": {\n        \"dtype\": \"number\",\n        \"std\": 0,\n        \"min\": 0,\n        \"max\": 2,\n        \"num_unique_values\": 3,\n        \"samples\": [\n          0,\n          2\n        ],\n        \"semantic_type\": \"\",\n        \"description\": \"\"\n      }\n    },\n    {\n      \"column\": \"trestbps\",\n      \"properties\": {\n        \"dtype\": \"number\",\n        \"std\": 10,\n        \"min\": 110,\n        \"max\": 135,\n        \"num_unique_values\": 5,\n        \"samples\": [\n          130,\n          135\n        ],\n        \"semantic_type\": \"\",\n        \"description\": \"\"\n      }\n    },\n    {\n      \"column\": \"chol\",\n      \"properties\": {\n        \"dtype\": \"number\",\n        \"std\": 10,\n        \"min\": 229,\n        \"max\": 250,\n        \"num_unique_values\": 4,\n        \"samples\": [\n          250,\n          229\n        ],\n        \"semantic_type\": \"\",\n        \"description\": \"\"\n      }\n    },\n    {\n      \"column\": \"fbs\",\n      \"properties\": {\n        \"dtype\": \"number\",\n        \"std\": 0,\n        \"min\": 0,\n        \"max\": 1,\n        \"num_unique_values\": 2,\n        \"samples\": [\n          1,\n          0\n        ],\n        \"semantic_type\": \"\",\n        \"description\": \"\"\n      }\n    },\n    {\n      \"column\": \"restecg\",\n      \"properties\": {\n        \"dtype\": \"number\",\n        \"std\": 0,\n        \"min\": 0,\n        \"max\": 1,\n        \"num_unique_values\": 2,\n        \"samples\": [\n          1,\n          0\n        ],\n        \"semantic_type\": \"\",\n        \"description\": \"\"\n      }\n    },\n    {\n      \"column\": \"thalach\",\n      \"properties\": {\n        \"dtype\": \"number\",\n        \"std\": 21,\n        \"min\": 129,\n        \"max\": 187,\n        \"num_unique_values\": 5,\n        \"samples\": [\n          187,\n          161\n        ],\n        \"semantic_type\": \"\",\n        \"description\": \"\"\n      }\n    },\n    {\n      \"column\": \"exang\",\n      \"properties\": {\n        \"dtype\": \"number\",\n        \"std\": 0,\n        \"min\": 0,\n        \"max\": 1,\n        \"num_unique_values\": 2,\n        \"samples\": [\n          0,\n          1\n        ],\n        \"semantic_type\": \"\",\n        \"description\": \"\"\n      }\n    },\n    {\n      \"column\": \"oldpeak\",\n      \"properties\": {\n        \"dtype\": \"number\",\n        \"std\": 0.9959919678390987,\n        \"min\": 1.2,\n        \"max\": 3.5,\n        \"num_unique_values\": 4,\n        \"samples\": [\n          3.5,\n          2.6\n        ],\n        \"semantic_type\": \"\",\n        \"description\": \"\"\n      }\n    },\n    {\n      \"column\": \"slope\",\n      \"properties\": {\n        \"dtype\": \"number\",\n        \"std\": 0,\n        \"min\": 0,\n        \"max\": 2,\n        \"num_unique_values\": 3,\n        \"samples\": [\n          1,\n          0\n        ],\n        \"semantic_type\": \"\",\n        \"description\": \"\"\n      }\n    },\n    {\n      \"column\": \"ca\",\n      \"properties\": {\n        \"dtype\": \"number\",\n        \"std\": 1,\n        \"min\": 0,\n        \"max\": 2,\n        \"num_unique_values\": 3,\n        \"samples\": [\n          1,\n          0\n        ],\n        \"semantic_type\": \"\",\n        \"description\": \"\"\n      }\n    },\n    {\n      \"column\": \"thal\",\n      \"properties\": {\n        \"dtype\": \"number\",\n        \"std\": 0,\n        \"min\": 2,\n        \"max\": 3,\n        \"num_unique_values\": 2,\n        \"samples\": [\n          2,\n          3\n        ],\n        \"semantic_type\": \"\",\n        \"description\": \"\"\n      }\n    },\n    {\n      \"column\": \"target\",\n      \"properties\": {\n        \"dtype\": \"number\",\n        \"std\": 0,\n        \"min\": 0,\n        \"max\": 1,\n        \"num_unique_values\": 2,\n        \"samples\": [\n          1,\n          0\n        ],\n        \"semantic_type\": \"\",\n        \"description\": \"\"\n      }\n    }\n  ]\n}"
            }
          },
          "metadata": {},
          "execution_count": 6
        }
      ]
    },
    {
      "cell_type": "code",
      "source": [
        "dataset.describe()"
      ],
      "metadata": {
        "colab": {
          "base_uri": "https://localhost:8080/",
          "height": 320
        },
        "id": "1pukHjXCPEHj",
        "outputId": "669caab2-6f4c-42fa-fd45-106a06a13b18"
      },
      "execution_count": 7,
      "outputs": [
        {
          "output_type": "execute_result",
          "data": {
            "text/plain": [
              "              age         sex          cp    trestbps        chol         fbs  \\\n",
              "count  303.000000  303.000000  303.000000  303.000000  303.000000  303.000000   \n",
              "mean    54.366337    0.683168    0.966997  131.623762  246.264026    0.148515   \n",
              "std      9.082101    0.466011    1.032052   17.538143   51.830751    0.356198   \n",
              "min     29.000000    0.000000    0.000000   94.000000  126.000000    0.000000   \n",
              "25%     47.500000    0.000000    0.000000  120.000000  211.000000    0.000000   \n",
              "50%     55.000000    1.000000    1.000000  130.000000  240.000000    0.000000   \n",
              "75%     61.000000    1.000000    2.000000  140.000000  274.500000    0.000000   \n",
              "max     77.000000    1.000000    3.000000  200.000000  564.000000    1.000000   \n",
              "\n",
              "          restecg     thalach       exang     oldpeak       slope          ca  \\\n",
              "count  303.000000  303.000000  303.000000  303.000000  303.000000  303.000000   \n",
              "mean     0.528053  149.646865    0.326733    1.039604    1.399340    0.729373   \n",
              "std      0.525860   22.905161    0.469794    1.161075    0.616226    1.022606   \n",
              "min      0.000000   71.000000    0.000000    0.000000    0.000000    0.000000   \n",
              "25%      0.000000  133.500000    0.000000    0.000000    1.000000    0.000000   \n",
              "50%      1.000000  153.000000    0.000000    0.800000    1.000000    0.000000   \n",
              "75%      1.000000  166.000000    1.000000    1.600000    2.000000    1.000000   \n",
              "max      2.000000  202.000000    1.000000    6.200000    2.000000    4.000000   \n",
              "\n",
              "             thal      target  \n",
              "count  303.000000  303.000000  \n",
              "mean     2.313531    0.544554  \n",
              "std      0.612277    0.498835  \n",
              "min      0.000000    0.000000  \n",
              "25%      2.000000    0.000000  \n",
              "50%      2.000000    1.000000  \n",
              "75%      3.000000    1.000000  \n",
              "max      3.000000    1.000000  "
            ],
            "text/html": [
              "\n",
              "  <div id=\"df-09ad3e73-34d0-486d-8e38-c8438464175a\" class=\"colab-df-container\">\n",
              "    <div>\n",
              "<style scoped>\n",
              "    .dataframe tbody tr th:only-of-type {\n",
              "        vertical-align: middle;\n",
              "    }\n",
              "\n",
              "    .dataframe tbody tr th {\n",
              "        vertical-align: top;\n",
              "    }\n",
              "\n",
              "    .dataframe thead th {\n",
              "        text-align: right;\n",
              "    }\n",
              "</style>\n",
              "<table border=\"1\" class=\"dataframe\">\n",
              "  <thead>\n",
              "    <tr style=\"text-align: right;\">\n",
              "      <th></th>\n",
              "      <th>age</th>\n",
              "      <th>sex</th>\n",
              "      <th>cp</th>\n",
              "      <th>trestbps</th>\n",
              "      <th>chol</th>\n",
              "      <th>fbs</th>\n",
              "      <th>restecg</th>\n",
              "      <th>thalach</th>\n",
              "      <th>exang</th>\n",
              "      <th>oldpeak</th>\n",
              "      <th>slope</th>\n",
              "      <th>ca</th>\n",
              "      <th>thal</th>\n",
              "      <th>target</th>\n",
              "    </tr>\n",
              "  </thead>\n",
              "  <tbody>\n",
              "    <tr>\n",
              "      <th>count</th>\n",
              "      <td>303.000000</td>\n",
              "      <td>303.000000</td>\n",
              "      <td>303.000000</td>\n",
              "      <td>303.000000</td>\n",
              "      <td>303.000000</td>\n",
              "      <td>303.000000</td>\n",
              "      <td>303.000000</td>\n",
              "      <td>303.000000</td>\n",
              "      <td>303.000000</td>\n",
              "      <td>303.000000</td>\n",
              "      <td>303.000000</td>\n",
              "      <td>303.000000</td>\n",
              "      <td>303.000000</td>\n",
              "      <td>303.000000</td>\n",
              "    </tr>\n",
              "    <tr>\n",
              "      <th>mean</th>\n",
              "      <td>54.366337</td>\n",
              "      <td>0.683168</td>\n",
              "      <td>0.966997</td>\n",
              "      <td>131.623762</td>\n",
              "      <td>246.264026</td>\n",
              "      <td>0.148515</td>\n",
              "      <td>0.528053</td>\n",
              "      <td>149.646865</td>\n",
              "      <td>0.326733</td>\n",
              "      <td>1.039604</td>\n",
              "      <td>1.399340</td>\n",
              "      <td>0.729373</td>\n",
              "      <td>2.313531</td>\n",
              "      <td>0.544554</td>\n",
              "    </tr>\n",
              "    <tr>\n",
              "      <th>std</th>\n",
              "      <td>9.082101</td>\n",
              "      <td>0.466011</td>\n",
              "      <td>1.032052</td>\n",
              "      <td>17.538143</td>\n",
              "      <td>51.830751</td>\n",
              "      <td>0.356198</td>\n",
              "      <td>0.525860</td>\n",
              "      <td>22.905161</td>\n",
              "      <td>0.469794</td>\n",
              "      <td>1.161075</td>\n",
              "      <td>0.616226</td>\n",
              "      <td>1.022606</td>\n",
              "      <td>0.612277</td>\n",
              "      <td>0.498835</td>\n",
              "    </tr>\n",
              "    <tr>\n",
              "      <th>min</th>\n",
              "      <td>29.000000</td>\n",
              "      <td>0.000000</td>\n",
              "      <td>0.000000</td>\n",
              "      <td>94.000000</td>\n",
              "      <td>126.000000</td>\n",
              "      <td>0.000000</td>\n",
              "      <td>0.000000</td>\n",
              "      <td>71.000000</td>\n",
              "      <td>0.000000</td>\n",
              "      <td>0.000000</td>\n",
              "      <td>0.000000</td>\n",
              "      <td>0.000000</td>\n",
              "      <td>0.000000</td>\n",
              "      <td>0.000000</td>\n",
              "    </tr>\n",
              "    <tr>\n",
              "      <th>25%</th>\n",
              "      <td>47.500000</td>\n",
              "      <td>0.000000</td>\n",
              "      <td>0.000000</td>\n",
              "      <td>120.000000</td>\n",
              "      <td>211.000000</td>\n",
              "      <td>0.000000</td>\n",
              "      <td>0.000000</td>\n",
              "      <td>133.500000</td>\n",
              "      <td>0.000000</td>\n",
              "      <td>0.000000</td>\n",
              "      <td>1.000000</td>\n",
              "      <td>0.000000</td>\n",
              "      <td>2.000000</td>\n",
              "      <td>0.000000</td>\n",
              "    </tr>\n",
              "    <tr>\n",
              "      <th>50%</th>\n",
              "      <td>55.000000</td>\n",
              "      <td>1.000000</td>\n",
              "      <td>1.000000</td>\n",
              "      <td>130.000000</td>\n",
              "      <td>240.000000</td>\n",
              "      <td>0.000000</td>\n",
              "      <td>1.000000</td>\n",
              "      <td>153.000000</td>\n",
              "      <td>0.000000</td>\n",
              "      <td>0.800000</td>\n",
              "      <td>1.000000</td>\n",
              "      <td>0.000000</td>\n",
              "      <td>2.000000</td>\n",
              "      <td>1.000000</td>\n",
              "    </tr>\n",
              "    <tr>\n",
              "      <th>75%</th>\n",
              "      <td>61.000000</td>\n",
              "      <td>1.000000</td>\n",
              "      <td>2.000000</td>\n",
              "      <td>140.000000</td>\n",
              "      <td>274.500000</td>\n",
              "      <td>0.000000</td>\n",
              "      <td>1.000000</td>\n",
              "      <td>166.000000</td>\n",
              "      <td>1.000000</td>\n",
              "      <td>1.600000</td>\n",
              "      <td>2.000000</td>\n",
              "      <td>1.000000</td>\n",
              "      <td>3.000000</td>\n",
              "      <td>1.000000</td>\n",
              "    </tr>\n",
              "    <tr>\n",
              "      <th>max</th>\n",
              "      <td>77.000000</td>\n",
              "      <td>1.000000</td>\n",
              "      <td>3.000000</td>\n",
              "      <td>200.000000</td>\n",
              "      <td>564.000000</td>\n",
              "      <td>1.000000</td>\n",
              "      <td>2.000000</td>\n",
              "      <td>202.000000</td>\n",
              "      <td>1.000000</td>\n",
              "      <td>6.200000</td>\n",
              "      <td>2.000000</td>\n",
              "      <td>4.000000</td>\n",
              "      <td>3.000000</td>\n",
              "      <td>1.000000</td>\n",
              "    </tr>\n",
              "  </tbody>\n",
              "</table>\n",
              "</div>\n",
              "    <div class=\"colab-df-buttons\">\n",
              "\n",
              "  <div class=\"colab-df-container\">\n",
              "    <button class=\"colab-df-convert\" onclick=\"convertToInteractive('df-09ad3e73-34d0-486d-8e38-c8438464175a')\"\n",
              "            title=\"Convert this dataframe to an interactive table.\"\n",
              "            style=\"display:none;\">\n",
              "\n",
              "  <svg xmlns=\"http://www.w3.org/2000/svg\" height=\"24px\" viewBox=\"0 -960 960 960\">\n",
              "    <path d=\"M120-120v-720h720v720H120Zm60-500h600v-160H180v160Zm220 220h160v-160H400v160Zm0 220h160v-160H400v160ZM180-400h160v-160H180v160Zm440 0h160v-160H620v160ZM180-180h160v-160H180v160Zm440 0h160v-160H620v160Z\"/>\n",
              "  </svg>\n",
              "    </button>\n",
              "\n",
              "  <style>\n",
              "    .colab-df-container {\n",
              "      display:flex;\n",
              "      gap: 12px;\n",
              "    }\n",
              "\n",
              "    .colab-df-convert {\n",
              "      background-color: #E8F0FE;\n",
              "      border: none;\n",
              "      border-radius: 50%;\n",
              "      cursor: pointer;\n",
              "      display: none;\n",
              "      fill: #1967D2;\n",
              "      height: 32px;\n",
              "      padding: 0 0 0 0;\n",
              "      width: 32px;\n",
              "    }\n",
              "\n",
              "    .colab-df-convert:hover {\n",
              "      background-color: #E2EBFA;\n",
              "      box-shadow: 0px 1px 2px rgba(60, 64, 67, 0.3), 0px 1px 3px 1px rgba(60, 64, 67, 0.15);\n",
              "      fill: #174EA6;\n",
              "    }\n",
              "\n",
              "    .colab-df-buttons div {\n",
              "      margin-bottom: 4px;\n",
              "    }\n",
              "\n",
              "    [theme=dark] .colab-df-convert {\n",
              "      background-color: #3B4455;\n",
              "      fill: #D2E3FC;\n",
              "    }\n",
              "\n",
              "    [theme=dark] .colab-df-convert:hover {\n",
              "      background-color: #434B5C;\n",
              "      box-shadow: 0px 1px 3px 1px rgba(0, 0, 0, 0.15);\n",
              "      filter: drop-shadow(0px 1px 2px rgba(0, 0, 0, 0.3));\n",
              "      fill: #FFFFFF;\n",
              "    }\n",
              "  </style>\n",
              "\n",
              "    <script>\n",
              "      const buttonEl =\n",
              "        document.querySelector('#df-09ad3e73-34d0-486d-8e38-c8438464175a button.colab-df-convert');\n",
              "      buttonEl.style.display =\n",
              "        google.colab.kernel.accessAllowed ? 'block' : 'none';\n",
              "\n",
              "      async function convertToInteractive(key) {\n",
              "        const element = document.querySelector('#df-09ad3e73-34d0-486d-8e38-c8438464175a');\n",
              "        const dataTable =\n",
              "          await google.colab.kernel.invokeFunction('convertToInteractive',\n",
              "                                                    [key], {});\n",
              "        if (!dataTable) return;\n",
              "\n",
              "        const docLinkHtml = 'Like what you see? Visit the ' +\n",
              "          '<a target=\"_blank\" href=https://colab.research.google.com/notebooks/data_table.ipynb>data table notebook</a>'\n",
              "          + ' to learn more about interactive tables.';\n",
              "        element.innerHTML = '';\n",
              "        dataTable['output_type'] = 'display_data';\n",
              "        await google.colab.output.renderOutput(dataTable, element);\n",
              "        const docLink = document.createElement('div');\n",
              "        docLink.innerHTML = docLinkHtml;\n",
              "        element.appendChild(docLink);\n",
              "      }\n",
              "    </script>\n",
              "  </div>\n",
              "\n",
              "\n",
              "<div id=\"df-bea1a759-dae3-4712-8c83-a5d7d7a54c09\">\n",
              "  <button class=\"colab-df-quickchart\" onclick=\"quickchart('df-bea1a759-dae3-4712-8c83-a5d7d7a54c09')\"\n",
              "            title=\"Suggest charts\"\n",
              "            style=\"display:none;\">\n",
              "\n",
              "<svg xmlns=\"http://www.w3.org/2000/svg\" height=\"24px\"viewBox=\"0 0 24 24\"\n",
              "     width=\"24px\">\n",
              "    <g>\n",
              "        <path d=\"M19 3H5c-1.1 0-2 .9-2 2v14c0 1.1.9 2 2 2h14c1.1 0 2-.9 2-2V5c0-1.1-.9-2-2-2zM9 17H7v-7h2v7zm4 0h-2V7h2v10zm4 0h-2v-4h2v4z\"/>\n",
              "    </g>\n",
              "</svg>\n",
              "  </button>\n",
              "\n",
              "<style>\n",
              "  .colab-df-quickchart {\n",
              "      --bg-color: #E8F0FE;\n",
              "      --fill-color: #1967D2;\n",
              "      --hover-bg-color: #E2EBFA;\n",
              "      --hover-fill-color: #174EA6;\n",
              "      --disabled-fill-color: #AAA;\n",
              "      --disabled-bg-color: #DDD;\n",
              "  }\n",
              "\n",
              "  [theme=dark] .colab-df-quickchart {\n",
              "      --bg-color: #3B4455;\n",
              "      --fill-color: #D2E3FC;\n",
              "      --hover-bg-color: #434B5C;\n",
              "      --hover-fill-color: #FFFFFF;\n",
              "      --disabled-bg-color: #3B4455;\n",
              "      --disabled-fill-color: #666;\n",
              "  }\n",
              "\n",
              "  .colab-df-quickchart {\n",
              "    background-color: var(--bg-color);\n",
              "    border: none;\n",
              "    border-radius: 50%;\n",
              "    cursor: pointer;\n",
              "    display: none;\n",
              "    fill: var(--fill-color);\n",
              "    height: 32px;\n",
              "    padding: 0;\n",
              "    width: 32px;\n",
              "  }\n",
              "\n",
              "  .colab-df-quickchart:hover {\n",
              "    background-color: var(--hover-bg-color);\n",
              "    box-shadow: 0 1px 2px rgba(60, 64, 67, 0.3), 0 1px 3px 1px rgba(60, 64, 67, 0.15);\n",
              "    fill: var(--button-hover-fill-color);\n",
              "  }\n",
              "\n",
              "  .colab-df-quickchart-complete:disabled,\n",
              "  .colab-df-quickchart-complete:disabled:hover {\n",
              "    background-color: var(--disabled-bg-color);\n",
              "    fill: var(--disabled-fill-color);\n",
              "    box-shadow: none;\n",
              "  }\n",
              "\n",
              "  .colab-df-spinner {\n",
              "    border: 2px solid var(--fill-color);\n",
              "    border-color: transparent;\n",
              "    border-bottom-color: var(--fill-color);\n",
              "    animation:\n",
              "      spin 1s steps(1) infinite;\n",
              "  }\n",
              "\n",
              "  @keyframes spin {\n",
              "    0% {\n",
              "      border-color: transparent;\n",
              "      border-bottom-color: var(--fill-color);\n",
              "      border-left-color: var(--fill-color);\n",
              "    }\n",
              "    20% {\n",
              "      border-color: transparent;\n",
              "      border-left-color: var(--fill-color);\n",
              "      border-top-color: var(--fill-color);\n",
              "    }\n",
              "    30% {\n",
              "      border-color: transparent;\n",
              "      border-left-color: var(--fill-color);\n",
              "      border-top-color: var(--fill-color);\n",
              "      border-right-color: var(--fill-color);\n",
              "    }\n",
              "    40% {\n",
              "      border-color: transparent;\n",
              "      border-right-color: var(--fill-color);\n",
              "      border-top-color: var(--fill-color);\n",
              "    }\n",
              "    60% {\n",
              "      border-color: transparent;\n",
              "      border-right-color: var(--fill-color);\n",
              "    }\n",
              "    80% {\n",
              "      border-color: transparent;\n",
              "      border-right-color: var(--fill-color);\n",
              "      border-bottom-color: var(--fill-color);\n",
              "    }\n",
              "    90% {\n",
              "      border-color: transparent;\n",
              "      border-bottom-color: var(--fill-color);\n",
              "    }\n",
              "  }\n",
              "</style>\n",
              "\n",
              "  <script>\n",
              "    async function quickchart(key) {\n",
              "      const quickchartButtonEl =\n",
              "        document.querySelector('#' + key + ' button');\n",
              "      quickchartButtonEl.disabled = true;  // To prevent multiple clicks.\n",
              "      quickchartButtonEl.classList.add('colab-df-spinner');\n",
              "      try {\n",
              "        const charts = await google.colab.kernel.invokeFunction(\n",
              "            'suggestCharts', [key], {});\n",
              "      } catch (error) {\n",
              "        console.error('Error during call to suggestCharts:', error);\n",
              "      }\n",
              "      quickchartButtonEl.classList.remove('colab-df-spinner');\n",
              "      quickchartButtonEl.classList.add('colab-df-quickchart-complete');\n",
              "    }\n",
              "    (() => {\n",
              "      let quickchartButtonEl =\n",
              "        document.querySelector('#df-bea1a759-dae3-4712-8c83-a5d7d7a54c09 button');\n",
              "      quickchartButtonEl.style.display =\n",
              "        google.colab.kernel.accessAllowed ? 'block' : 'none';\n",
              "    })();\n",
              "  </script>\n",
              "</div>\n",
              "\n",
              "    </div>\n",
              "  </div>\n"
            ],
            "application/vnd.google.colaboratory.intrinsic+json": {
              "type": "dataframe",
              "summary": "{\n  \"name\": \"dataset\",\n  \"rows\": 8,\n  \"fields\": [\n    {\n      \"column\": \"age\",\n      \"properties\": {\n        \"dtype\": \"number\",\n        \"std\": 92.63263171018461,\n        \"min\": 9.082100989837857,\n        \"max\": 303.0,\n        \"num_unique_values\": 8,\n        \"samples\": [\n          54.366336633663366,\n          55.0,\n          303.0\n        ],\n        \"semantic_type\": \"\",\n        \"description\": \"\"\n      }\n    },\n    {\n      \"column\": \"sex\",\n      \"properties\": {\n        \"dtype\": \"number\",\n        \"std\": 106.91793021099774,\n        \"min\": 0.0,\n        \"max\": 303.0,\n        \"num_unique_values\": 5,\n        \"samples\": [\n          0.6831683168316832,\n          1.0,\n          0.46601082333962385\n        ],\n        \"semantic_type\": \"\",\n        \"description\": \"\"\n      }\n    },\n    {\n      \"column\": \"cp\",\n      \"properties\": {\n        \"dtype\": \"number\",\n        \"std\": 106.72725528212327,\n        \"min\": 0.0,\n        \"max\": 303.0,\n        \"num_unique_values\": 7,\n        \"samples\": [\n          303.0,\n          0.966996699669967,\n          2.0\n        ],\n        \"semantic_type\": \"\",\n        \"description\": \"\"\n      }\n    },\n    {\n      \"column\": \"trestbps\",\n      \"properties\": {\n        \"dtype\": \"number\",\n        \"std\": 82.65195263865039,\n        \"min\": 17.5381428135171,\n        \"max\": 303.0,\n        \"num_unique_values\": 8,\n        \"samples\": [\n          131.62376237623764,\n          130.0,\n          303.0\n        ],\n        \"semantic_type\": \"\",\n        \"description\": \"\"\n      }\n    },\n    {\n      \"column\": \"chol\",\n      \"properties\": {\n        \"dtype\": \"number\",\n        \"std\": 150.35806568851743,\n        \"min\": 51.83075098793003,\n        \"max\": 564.0,\n        \"num_unique_values\": 8,\n        \"samples\": [\n          246.26402640264027,\n          240.0,\n          303.0\n        ],\n        \"semantic_type\": \"\",\n        \"description\": \"\"\n      }\n    },\n    {\n      \"column\": \"fbs\",\n      \"properties\": {\n        \"dtype\": \"number\",\n        \"std\": 107.0512286741478,\n        \"min\": 0.0,\n        \"max\": 303.0,\n        \"num_unique_values\": 5,\n        \"samples\": [\n          0.1485148514851485,\n          1.0,\n          0.35619787492797644\n        ],\n        \"semantic_type\": \"\",\n        \"description\": \"\"\n      }\n    },\n    {\n      \"column\": \"restecg\",\n      \"properties\": {\n        \"dtype\": \"number\",\n        \"std\": 106.8733588009897,\n        \"min\": 0.0,\n        \"max\": 303.0,\n        \"num_unique_values\": 6,\n        \"samples\": [\n          303.0,\n          0.528052805280528,\n          2.0\n        ],\n        \"semantic_type\": \"\",\n        \"description\": \"\"\n      }\n    },\n    {\n      \"column\": \"thalach\",\n      \"properties\": {\n        \"dtype\": \"number\",\n        \"std\": 83.70384393886218,\n        \"min\": 22.905161114914094,\n        \"max\": 303.0,\n        \"num_unique_values\": 8,\n        \"samples\": [\n          149.64686468646866,\n          153.0,\n          303.0\n        ],\n        \"semantic_type\": \"\",\n        \"description\": \"\"\n      }\n    },\n    {\n      \"column\": \"exang\",\n      \"properties\": {\n        \"dtype\": \"number\",\n        \"std\": 106.9862394088184,\n        \"min\": 0.0,\n        \"max\": 303.0,\n        \"num_unique_values\": 5,\n        \"samples\": [\n          0.32673267326732675,\n          1.0,\n          0.4697944645223165\n        ],\n        \"semantic_type\": \"\",\n        \"description\": \"\"\n      }\n    },\n    {\n      \"column\": \"oldpeak\",\n      \"properties\": {\n        \"dtype\": \"number\",\n        \"std\": 106.59952466080658,\n        \"min\": 0.0,\n        \"max\": 303.0,\n        \"num_unique_values\": 7,\n        \"samples\": [\n          303.0,\n          1.0396039603960396,\n          1.6\n        ],\n        \"semantic_type\": \"\",\n        \"description\": \"\"\n      }\n    },\n    {\n      \"column\": \"slope\",\n      \"properties\": {\n        \"dtype\": \"number\",\n        \"std\": 106.72394469173834,\n        \"min\": 0.0,\n        \"max\": 303.0,\n        \"num_unique_values\": 6,\n        \"samples\": [\n          303.0,\n          1.3993399339933994,\n          2.0\n        ],\n        \"semantic_type\": \"\",\n        \"description\": \"\"\n      }\n    },\n    {\n      \"column\": \"ca\",\n      \"properties\": {\n        \"dtype\": \"number\",\n        \"std\": 106.79372080487734,\n        \"min\": 0.0,\n        \"max\": 303.0,\n        \"num_unique_values\": 6,\n        \"samples\": [\n          303.0,\n          0.7293729372937293,\n          4.0\n        ],\n        \"semantic_type\": \"\",\n        \"description\": \"\"\n      }\n    },\n    {\n      \"column\": \"thal\",\n      \"properties\": {\n        \"dtype\": \"number\",\n        \"std\": 106.47909774814387,\n        \"min\": 0.0,\n        \"max\": 303.0,\n        \"num_unique_values\": 6,\n        \"samples\": [\n          303.0,\n          2.3135313531353137,\n          3.0\n        ],\n        \"semantic_type\": \"\",\n        \"description\": \"\"\n      }\n    },\n    {\n      \"column\": \"target\",\n      \"properties\": {\n        \"dtype\": \"number\",\n        \"std\": 106.92326354929804,\n        \"min\": 0.0,\n        \"max\": 303.0,\n        \"num_unique_values\": 5,\n        \"samples\": [\n          0.5445544554455446,\n          1.0,\n          0.4988347841643913\n        ],\n        \"semantic_type\": \"\",\n        \"description\": \"\"\n      }\n    }\n  ]\n}"
            }
          },
          "metadata": {},
          "execution_count": 7
        }
      ]
    },
    {
      "cell_type": "code",
      "source": [
        "dataset.info()"
      ],
      "metadata": {
        "colab": {
          "base_uri": "https://localhost:8080/"
        },
        "id": "JLT9lpGxPFxQ",
        "outputId": "b1a3d02f-3e8a-4c4d-8299-a37ea924f713"
      },
      "execution_count": 8,
      "outputs": [
        {
          "output_type": "stream",
          "name": "stdout",
          "text": [
            "<class 'pandas.core.frame.DataFrame'>\n",
            "RangeIndex: 303 entries, 0 to 302\n",
            "Data columns (total 14 columns):\n",
            " #   Column    Non-Null Count  Dtype  \n",
            "---  ------    --------------  -----  \n",
            " 0   age       303 non-null    int64  \n",
            " 1   sex       303 non-null    int64  \n",
            " 2   cp        303 non-null    int64  \n",
            " 3   trestbps  303 non-null    int64  \n",
            " 4   chol      303 non-null    int64  \n",
            " 5   fbs       303 non-null    int64  \n",
            " 6   restecg   303 non-null    int64  \n",
            " 7   thalach   303 non-null    int64  \n",
            " 8   exang     303 non-null    int64  \n",
            " 9   oldpeak   303 non-null    float64\n",
            " 10  slope     303 non-null    int64  \n",
            " 11  ca        303 non-null    int64  \n",
            " 12  thal      303 non-null    int64  \n",
            " 13  target    303 non-null    int64  \n",
            "dtypes: float64(1), int64(13)\n",
            "memory usage: 33.3 KB\n"
          ]
        }
      ]
    },
    {
      "cell_type": "code",
      "source": [
        "info = [\"age\",\"1: male, 0: female\",\"chest pain type, 1: typical angina, 2: atypical angina, 3: non-anginal pain, 4: asymptomatic\",\"resting blood pressure\",\" serum cholestoral in mg/dl\",\"fasting blood sugar > 120 mg/dl\",\"resting electrocardiographic results (values 0,1,2)\",\" maximum heart rate achieved\",\"exercise induced angina\",\"oldpeak = ST depression induced by exercise relative to rest\",\"the slope of the peak exercise ST segment\",\"number of major vessels (0-3) colored by flourosopy\",\"thal: 3 = normal; 6 = fixed defect; 7 = reversable defect\"]\n",
        "\n",
        "\n",
        "\n",
        "for i in range(len(info)):\n",
        "    print(dataset.columns[i]+\":\\t\\t\\t\"+info[i])"
      ],
      "metadata": {
        "colab": {
          "base_uri": "https://localhost:8080/"
        },
        "id": "hvmdx_7FPHeN",
        "outputId": "98439dbf-68cc-46c7-e697-e38e7d13038c"
      },
      "execution_count": 9,
      "outputs": [
        {
          "output_type": "stream",
          "name": "stdout",
          "text": [
            "age:\t\t\tage\n",
            "sex:\t\t\t1: male, 0: female\n",
            "cp:\t\t\tchest pain type, 1: typical angina, 2: atypical angina, 3: non-anginal pain, 4: asymptomatic\n",
            "trestbps:\t\t\tresting blood pressure\n",
            "chol:\t\t\t serum cholestoral in mg/dl\n",
            "fbs:\t\t\tfasting blood sugar > 120 mg/dl\n",
            "restecg:\t\t\tresting electrocardiographic results (values 0,1,2)\n",
            "thalach:\t\t\t maximum heart rate achieved\n",
            "exang:\t\t\texercise induced angina\n",
            "oldpeak:\t\t\toldpeak = ST depression induced by exercise relative to rest\n",
            "slope:\t\t\tthe slope of the peak exercise ST segment\n",
            "ca:\t\t\tnumber of major vessels (0-3) colored by flourosopy\n",
            "thal:\t\t\tthal: 3 = normal; 6 = fixed defect; 7 = reversable defect\n"
          ]
        }
      ]
    },
    {
      "cell_type": "code",
      "source": [
        "dataset[\"target\"].describe()"
      ],
      "metadata": {
        "colab": {
          "base_uri": "https://localhost:8080/"
        },
        "id": "HJRe1m9nPJ1p",
        "outputId": "ef439095-0e2d-4e61-d4e7-324d997d439b"
      },
      "execution_count": 10,
      "outputs": [
        {
          "output_type": "execute_result",
          "data": {
            "text/plain": [
              "count    303.000000\n",
              "mean       0.544554\n",
              "std        0.498835\n",
              "min        0.000000\n",
              "25%        0.000000\n",
              "50%        1.000000\n",
              "75%        1.000000\n",
              "max        1.000000\n",
              "Name: target, dtype: float64"
            ]
          },
          "metadata": {},
          "execution_count": 10
        }
      ]
    },
    {
      "cell_type": "code",
      "source": [
        "dataset[\"target\"].unique()"
      ],
      "metadata": {
        "colab": {
          "base_uri": "https://localhost:8080/"
        },
        "id": "_VExjfAjPLTk",
        "outputId": "f3349da6-0c78-4113-991f-4d5111d91e86"
      },
      "execution_count": 11,
      "outputs": [
        {
          "output_type": "execute_result",
          "data": {
            "text/plain": [
              "array([1, 0])"
            ]
          },
          "metadata": {},
          "execution_count": 11
        }
      ]
    },
    {
      "cell_type": "code",
      "source": [
        "print(dataset.corr()[\"target\"].abs().sort_values(ascending=False))"
      ],
      "metadata": {
        "colab": {
          "base_uri": "https://localhost:8080/"
        },
        "id": "nrpA4CnwPM7Y",
        "outputId": "0207f152-7900-4498-98c3-5f9c4db3edbd"
      },
      "execution_count": 12,
      "outputs": [
        {
          "output_type": "stream",
          "name": "stdout",
          "text": [
            "target      1.000000\n",
            "exang       0.436757\n",
            "cp          0.433798\n",
            "oldpeak     0.430696\n",
            "thalach     0.421741\n",
            "ca          0.391724\n",
            "slope       0.345877\n",
            "thal        0.344029\n",
            "sex         0.280937\n",
            "age         0.225439\n",
            "trestbps    0.144931\n",
            "restecg     0.137230\n",
            "chol        0.085239\n",
            "fbs         0.028046\n",
            "Name: target, dtype: float64\n"
          ]
        }
      ]
    },
    {
      "cell_type": "markdown",
      "source": [
        "##EDA"
      ],
      "metadata": {
        "id": "HPQtZENYPQxK"
      }
    },
    {
      "cell_type": "code",
      "source": [
        "y = dataset[\"target\"]\n",
        "\n",
        "target_temp = dataset.target.value_counts()\n",
        "\n",
        "print(target_temp)"
      ],
      "metadata": {
        "colab": {
          "base_uri": "https://localhost:8080/"
        },
        "id": "-iAgUuk4POsZ",
        "outputId": "f2401c71-5857-497d-d25f-a6c6022956ef"
      },
      "execution_count": 18,
      "outputs": [
        {
          "output_type": "stream",
          "name": "stdout",
          "text": [
            "target\n",
            "1    165\n",
            "0    138\n",
            "Name: count, dtype: int64\n"
          ]
        }
      ]
    },
    {
      "cell_type": "code",
      "source": [
        "print(\"Percentage of patience without heart problems: \"+str(round(target_temp[0]*100/303,2)))\n",
        "print(\"Percentage of patience with heart problems: \"+str(round(target_temp[1]*100/303,2)))\n",
        "\n",
        "#Alternatively,\n",
        "# print(\"Percentage of patience with heart problems: \"+str(y.where(y==1).count()*100/303))\n",
        "# print(\"Percentage of patience with heart problems: \"+str(y.where(y==0).count()*100/303))\n",
        "\n",
        "# #Or,\n",
        "# countNoDisease = len(df[df.target == 0])\n",
        "# countHaveDisease = len(df[df.target == 1])"
      ],
      "metadata": {
        "colab": {
          "base_uri": "https://localhost:8080/"
        },
        "id": "cDE9PF8VPSXF",
        "outputId": "c036b3e7-fd2f-453e-d667-743cf6ba9120"
      },
      "execution_count": 14,
      "outputs": [
        {
          "output_type": "stream",
          "name": "stdout",
          "text": [
            "Percentage of patience without heart problems: 45.54\n",
            "Percentage of patience with heart problems: 54.46\n"
          ]
        }
      ]
    },
    {
      "cell_type": "code",
      "source": [
        "dataset[\"sex\"].unique()"
      ],
      "metadata": {
        "colab": {
          "base_uri": "https://localhost:8080/"
        },
        "id": "vc6BKxrDPUnq",
        "outputId": "a77df01e-2685-4435-ad9c-dd15e6d4f8c0"
      },
      "execution_count": 15,
      "outputs": [
        {
          "output_type": "execute_result",
          "data": {
            "text/plain": [
              "array([1, 0])"
            ]
          },
          "metadata": {},
          "execution_count": 15
        }
      ]
    },
    {
      "cell_type": "code",
      "source": [
        "dataset[\"cp\"].unique()"
      ],
      "metadata": {
        "colab": {
          "base_uri": "https://localhost:8080/"
        },
        "id": "NK000HwxPXkV",
        "outputId": "2cd31241-60b3-49cc-f2d4-3d95bae2b734"
      },
      "execution_count": 19,
      "outputs": [
        {
          "output_type": "execute_result",
          "data": {
            "text/plain": [
              "array([3, 2, 1, 0])"
            ]
          },
          "metadata": {},
          "execution_count": 19
        }
      ]
    },
    {
      "cell_type": "code",
      "source": [
        "sns.barplot(x=dataset[\"cp\"], y=y)\n",
        "plt.title('Bar Plot of y against cp')\n",
        "plt.xlabel('cp')\n",
        "plt.ylabel('y')\n",
        "plt.show()"
      ],
      "metadata": {
        "colab": {
          "base_uri": "https://localhost:8080/",
          "height": 472
        },
        "id": "IELW7SaFPY7S",
        "outputId": "a2c84c00-a0b7-4632-ddae-290a04dee4b4"
      },
      "execution_count": 22,
      "outputs": [
        {
          "output_type": "display_data",
          "data": {
            "text/plain": [
              "<Figure size 640x480 with 1 Axes>"
            ],
            "image/png": "[encoded data removed]"
          },
          "metadata": {}
        }
      ]
    },
    {
      "cell_type": "code",
      "source": [
        "dataset[\"fbs\"].describe()"
      ],
      "metadata": {
        "colab": {
          "base_uri": "https://localhost:8080/"
        },
        "id": "dA_LiF4fPz9J",
        "outputId": "5730fad6-b5e1-4d3a-b9f5-b2ea89709a3d"
      },
      "execution_count": 23,
      "outputs": [
        {
          "output_type": "execute_result",
          "data": {
            "text/plain": [
              "count    303.000000\n",
              "mean       0.148515\n",
              "std        0.356198\n",
              "min        0.000000\n",
              "25%        0.000000\n",
              "50%        0.000000\n",
              "75%        0.000000\n",
              "max        1.000000\n",
              "Name: fbs, dtype: float64"
            ]
          },
          "metadata": {},
          "execution_count": 23
        }
      ]
    },
    {
      "cell_type": "code",
      "source": [
        "dataset[\"fbs\"].unique()"
      ],
      "metadata": {
        "colab": {
          "base_uri": "https://localhost:8080/"
        },
        "id": "QlCasdBdP4K3",
        "outputId": "194d3510-48c0-4a2f-8ef5-62e30acc3f74"
      },
      "execution_count": 24,
      "outputs": [
        {
          "output_type": "execute_result",
          "data": {
            "text/plain": [
              "array([1, 0])"
            ]
          },
          "metadata": {},
          "execution_count": 24
        }
      ]
    },
    {
      "cell_type": "code",
      "source": [
        "sns.barplot(x=dataset[\"fbs\"], y=y)\n",
        "plt.title('Bar Plot of y against fbs')\n",
        "plt.xlabel('fbs')\n",
        "plt.ylabel('y')\n",
        "plt.show()"
      ],
      "metadata": {
        "colab": {
          "base_uri": "https://localhost:8080/",
          "height": 472
        },
        "id": "c2dHpuTBP69K",
        "outputId": "77b9f794-0527-458b-e250-ec0d41864fe0"
      },
      "execution_count": 25,
      "outputs": [
        {
          "output_type": "display_data",
          "data": {
            "text/plain": [
              "<Figure size 640x480 with 1 Axes>"
            ],
            "image/png": "[encoded data removed]"
          },
          "metadata": {}
        }
      ]
    },
    {
      "cell_type": "code",
      "source": [
        "dataset[\"restecg\"].unique()"
      ],
      "metadata": {
        "colab": {
          "base_uri": "https://localhost:8080/"
        },
        "id": "U9BD76EyQAFF",
        "outputId": "6ebffd72-e7c2-4078-c5d8-069035febc96"
      },
      "execution_count": 26,
      "outputs": [
        {
          "output_type": "execute_result",
          "data": {
            "text/plain": [
              "array([0, 1, 2])"
            ]
          },
          "metadata": {},
          "execution_count": 26
        }
      ]
    },
    {
      "cell_type": "code",
      "source": [
        "sns.barplot(x=dataset[\"restecg\"], y=y)\n",
        "plt.title('Bar Plot of y against restecg')\n",
        "plt.xlabel('restecg')\n",
        "plt.ylabel('y')\n",
        "plt.show()"
      ],
      "metadata": {
        "colab": {
          "base_uri": "https://localhost:8080/",
          "height": 472
        },
        "id": "TzhtrZBjQB_y",
        "outputId": "1a610a81-f4da-4a1f-d2a9-afefef4ccbc4"
      },
      "execution_count": 27,
      "outputs": [
        {
          "output_type": "display_data",
          "data": {
            "text/plain": [
              "<Figure size 640x480 with 1 Axes>"
            ],
            "image/png": "[encoded data removed]"
          },
          "metadata": {}
        }
      ]
    },
    {
      "cell_type": "code",
      "source": [
        "dataset[\"exang\"].unique()"
      ],
      "metadata": {
        "colab": {
          "base_uri": "https://localhost:8080/"
        },
        "id": "lDEdFEvNQHOn",
        "outputId": "912edcb6-5ebf-4c8b-9dab-eeb74affc865"
      },
      "execution_count": 28,
      "outputs": [
        {
          "output_type": "execute_result",
          "data": {
            "text/plain": [
              "array([0, 1])"
            ]
          },
          "metadata": {},
          "execution_count": 28
        }
      ]
    },
    {
      "cell_type": "code",
      "source": [
        "sns.barplot(x=dataset[\"exang\"], y=y)\n",
        "plt.title('Bar Plot of y against exang')\n",
        "plt.xlabel('exang')\n",
        "plt.ylabel('y')\n",
        "plt.show()"
      ],
      "metadata": {
        "colab": {
          "base_uri": "https://localhost:8080/",
          "height": 472
        },
        "id": "kCvNm3fzQJ7h",
        "outputId": "c40f9985-323c-4227-da5b-13d1d39f2d99"
      },
      "execution_count": 30,
      "outputs": [
        {
          "output_type": "display_data",
          "data": {
            "text/plain": [
              "<Figure size 640x480 with 1 Axes>"
            ],
            "image/png": "[encoded data removed]"
          },
          "metadata": {}
        }
      ]
    },
    {
      "cell_type": "markdown",
      "source": [
        "##Train Split Data"
      ],
      "metadata": {
        "id": "Q6OGP8PjQRP3"
      }
    },
    {
      "cell_type": "code",
      "source": [
        "from sklearn.model_selection import train_test_split\n",
        "\n",
        "predictors = dataset.drop(\"target\",axis=1)\n",
        "target = dataset[\"target\"]\n",
        "\n",
        "X_train,X_test,Y_train,Y_test = train_test_split(predictors,target,test_size=0.20,random_state=0)"
      ],
      "metadata": {
        "id": "Etv2CB5sQQ2O"
      },
      "execution_count": 29,
      "outputs": []
    },
    {
      "cell_type": "code",
      "source": [
        "X_train.shape"
      ],
      "metadata": {
        "colab": {
          "base_uri": "https://localhost:8080/"
        },
        "id": "nZiZpy-2QWi_",
        "outputId": "86a19af2-f138-4d66-866e-db01d354df9d"
      },
      "execution_count": 31,
      "outputs": [
        {
          "output_type": "execute_result",
          "data": {
            "text/plain": [
              "(242, 13)"
            ]
          },
          "metadata": {},
          "execution_count": 31
        }
      ]
    },
    {
      "cell_type": "code",
      "source": [
        "X_test.shape"
      ],
      "metadata": {
        "colab": {
          "base_uri": "https://localhost:8080/"
        },
        "id": "_CPQxqWEQZSr",
        "outputId": "d502e793-33c8-401c-f4ec-62f246fe36b4"
      },
      "execution_count": 32,
      "outputs": [
        {
          "output_type": "execute_result",
          "data": {
            "text/plain": [
              "(61, 13)"
            ]
          },
          "metadata": {},
          "execution_count": 32
        }
      ]
    },
    {
      "cell_type": "code",
      "source": [
        "Y_train.shape"
      ],
      "metadata": {
        "colab": {
          "base_uri": "https://localhost:8080/"
        },
        "id": "t_xzb2TmQapE",
        "outputId": "a6103b8b-2b07-45bf-e2b9-2dcc3e6ef995"
      },
      "execution_count": 33,
      "outputs": [
        {
          "output_type": "execute_result",
          "data": {
            "text/plain": [
              "(242,)"
            ]
          },
          "metadata": {},
          "execution_count": 33
        }
      ]
    },
    {
      "cell_type": "code",
      "source": [
        "Y_test.shape"
      ],
      "metadata": {
        "colab": {
          "base_uri": "https://localhost:8080/"
        },
        "id": "viOd2q_RQb9i",
        "outputId": "a1b5f5f0-a33a-43d9-dbac-ff3a89c4c829"
      },
      "execution_count": 34,
      "outputs": [
        {
          "output_type": "execute_result",
          "data": {
            "text/plain": [
              "(61,)"
            ]
          },
          "metadata": {},
          "execution_count": 34
        }
      ]
    },
    {
      "cell_type": "markdown",
      "source": [
        "#Model Fitting"
      ],
      "metadata": {
        "id": "uzw6nsRVQgwA"
      }
    },
    {
      "cell_type": "code",
      "source": [
        "from sklearn.metrics import accuracy_score"
      ],
      "metadata": {
        "id": "d92h21rFQdX1"
      },
      "execution_count": 35,
      "outputs": []
    },
    {
      "cell_type": "markdown",
      "source": [
        "##Logistic Regression"
      ],
      "metadata": {
        "id": "o12clpFIQqJf"
      }
    },
    {
      "cell_type": "code",
      "source": [
        "from sklearn.linear_model import LogisticRegression\n",
        "\n",
        "lr = LogisticRegression()\n",
        "\n",
        "lr.fit(X_train,Y_train)\n",
        "\n",
        "Y_pred_lr = lr.predict(X_test)"
      ],
      "metadata": {
        "id": "MNAXd6XYQiau"
      },
      "execution_count": 36,
      "outputs": []
    },
    {
      "cell_type": "code",
      "source": [
        "Y_pred_lr.shape"
      ],
      "metadata": {
        "colab": {
          "base_uri": "https://localhost:8080/"
        },
        "id": "b3SdQUe6QjvL",
        "outputId": "1626beaa-09aa-4a2c-a706-76679d5e56eb"
      },
      "execution_count": 37,
      "outputs": [
        {
          "output_type": "execute_result",
          "data": {
            "text/plain": [
              "(61,)"
            ]
          },
          "metadata": {},
          "execution_count": 37
        }
      ]
    },
    {
      "cell_type": "code",
      "source": [
        "score_lr = round(accuracy_score(Y_pred_lr,Y_test)*100,2)\n",
        "\n",
        "print(\"The accuracy score achieved using Logistic Regression is: \"+str(score_lr)+\" %\")"
      ],
      "metadata": {
        "colab": {
          "base_uri": "https://localhost:8080/"
        },
        "id": "dqg1yOiyQlnL",
        "outputId": "5b6604dc-9c4d-4cd9-dffa-0131aa9ba25f"
      },
      "execution_count": 38,
      "outputs": [
        {
          "output_type": "stream",
          "name": "stdout",
          "text": [
            "The accuracy score achieved using Logistic Regression is: 85.25 %\n"
          ]
        }
      ]
    },
    {
      "cell_type": "markdown",
      "source": [
        "##Naive Bayes"
      ],
      "metadata": {
        "id": "4OWvsig_QsFN"
      }
    },
    {
      "cell_type": "code",
      "source": [
        "from sklearn.naive_bayes import GaussianNB\n",
        "\n",
        "nb = GaussianNB()\n",
        "\n",
        "nb.fit(X_train,Y_train)\n",
        "\n",
        "Y_pred_nb = nb.predict(X_test)"
      ],
      "metadata": {
        "id": "zRVVaWEKQoKk"
      },
      "execution_count": 39,
      "outputs": []
    },
    {
      "cell_type": "code",
      "source": [
        "Y_pred_nb.shape"
      ],
      "metadata": {
        "colab": {
          "base_uri": "https://localhost:8080/"
        },
        "id": "f-AYtd0YQwgX",
        "outputId": "da044d8e-b980-469f-f43f-754733c4b27d"
      },
      "execution_count": 40,
      "outputs": [
        {
          "output_type": "execute_result",
          "data": {
            "text/plain": [
              "(61,)"
            ]
          },
          "metadata": {},
          "execution_count": 40
        }
      ]
    },
    {
      "cell_type": "code",
      "source": [
        "score_nb = round(accuracy_score(Y_pred_nb,Y_test)*100,2)\n",
        "\n",
        "print(\"The accuracy score achieved using Naive Bayes is: \"+str(score_nb)+\" %\")"
      ],
      "metadata": {
        "colab": {
          "base_uri": "https://localhost:8080/"
        },
        "id": "KfImMmx5Qx7g",
        "outputId": "86ef60db-4daf-4b3e-d738-36c5c0e18ef7"
      },
      "execution_count": 41,
      "outputs": [
        {
          "output_type": "stream",
          "name": "stdout",
          "text": [
            "The accuracy score achieved using Naive Bayes is: 85.25 %\n"
          ]
        }
      ]
    },
    {
      "cell_type": "markdown",
      "source": [
        "##SVM"
      ],
      "metadata": {
        "id": "aEboX4f1Q0G9"
      }
    },
    {
      "cell_type": "code",
      "source": [
        "from sklearn import svm\n",
        "\n",
        "sv = svm.SVC(kernel='linear')\n",
        "\n",
        "sv.fit(X_train, Y_train)\n",
        "\n",
        "Y_pred_svm = sv.predict(X_test)"
      ],
      "metadata": {
        "id": "v7F7acjLQzTj"
      },
      "execution_count": 42,
      "outputs": []
    },
    {
      "cell_type": "code",
      "source": [
        "Y_pred_svm.shape"
      ],
      "metadata": {
        "colab": {
          "base_uri": "https://localhost:8080/"
        },
        "id": "l8vOGEW9Q2Ij",
        "outputId": "11493772-3e05-46f3-b5f3-37d8d9b40ef5"
      },
      "execution_count": 43,
      "outputs": [
        {
          "output_type": "execute_result",
          "data": {
            "text/plain": [
              "(61,)"
            ]
          },
          "metadata": {},
          "execution_count": 43
        }
      ]
    },
    {
      "cell_type": "code",
      "source": [
        "score_svm = round(accuracy_score(Y_pred_svm,Y_test)*100,2)\n",
        "\n",
        "print(\"The accuracy score achieved using Linear SVM is: \"+str(score_svm)+\" %\")"
      ],
      "metadata": {
        "colab": {
          "base_uri": "https://localhost:8080/"
        },
        "id": "9gxVKFwiQ3eb",
        "outputId": "fd5ea7d6-a5b7-4ce7-909a-6eec2c683154"
      },
      "execution_count": 44,
      "outputs": [
        {
          "output_type": "stream",
          "name": "stdout",
          "text": [
            "The accuracy score achieved using Linear SVM is: 81.97 %\n"
          ]
        }
      ]
    },
    {
      "cell_type": "markdown",
      "source": [
        "##KNN"
      ],
      "metadata": {
        "id": "nFR30CY9RAdC"
      }
    },
    {
      "cell_type": "code",
      "source": [
        "from sklearn.neighbors import KNeighborsClassifier\n",
        "\n",
        "knn = KNeighborsClassifier(n_neighbors=7)\n",
        "knn.fit(X_train,Y_train)\n",
        "Y_pred_knn=knn.predict(X_test)"
      ],
      "metadata": {
        "id": "y-brEGtFQ8M-"
      },
      "execution_count": 45,
      "outputs": []
    },
    {
      "cell_type": "code",
      "source": [
        "Y_pred_knn.shape"
      ],
      "metadata": {
        "colab": {
          "base_uri": "https://localhost:8080/"
        },
        "id": "YtvfGCWrRCW_",
        "outputId": "4ee78d67-a645-45a5-95d7-a89451ff156b"
      },
      "execution_count": 46,
      "outputs": [
        {
          "output_type": "execute_result",
          "data": {
            "text/plain": [
              "(61,)"
            ]
          },
          "metadata": {},
          "execution_count": 46
        }
      ]
    },
    {
      "cell_type": "code",
      "source": [
        "score_knn = round(accuracy_score(Y_pred_knn,Y_test)*100,2)\n",
        "\n",
        "print(\"The accuracy score achieved using KNN is: \"+str(score_knn)+\" %\")"
      ],
      "metadata": {
        "colab": {
          "base_uri": "https://localhost:8080/"
        },
        "id": "ne-MgEG-RDf_",
        "outputId": "fa5faa55-2ca5-4c80-b593-f1d8c8c07432"
      },
      "execution_count": 47,
      "outputs": [
        {
          "output_type": "stream",
          "name": "stdout",
          "text": [
            "The accuracy score achieved using KNN is: 67.21 %\n"
          ]
        }
      ]
    },
    {
      "cell_type": "markdown",
      "source": [
        "##Decision Tree"
      ],
      "metadata": {
        "id": "XKqy2VaxRGhW"
      }
    },
    {
      "cell_type": "code",
      "source": [
        "from sklearn.tree import DecisionTreeClassifier\n",
        "\n",
        "max_accuracy = 0\n",
        "\n",
        "\n",
        "for x in range(200):\n",
        "    dt = DecisionTreeClassifier(random_state=x)\n",
        "    dt.fit(X_train,Y_train)\n",
        "    Y_pred_dt = dt.predict(X_test)\n",
        "    current_accuracy = round(accuracy_score(Y_pred_dt,Y_test)*100,2)\n",
        "    if(current_accuracy>max_accuracy):\n",
        "        max_accuracy = current_accuracy\n",
        "        best_x = x\n",
        "\n",
        "#print(max_accuracy)\n",
        "#print(best_x)\n",
        "\n",
        "\n",
        "dt = DecisionTreeClassifier(random_state=best_x)\n",
        "dt.fit(X_train,Y_train)\n",
        "Y_pred_dt = dt.predict(X_test)"
      ],
      "metadata": {
        "id": "9kNKlN2lRE8V"
      },
      "execution_count": 48,
      "outputs": []
    },
    {
      "cell_type": "code",
      "source": [
        "print(Y_pred_dt.shape)"
      ],
      "metadata": {
        "colab": {
          "base_uri": "https://localhost:8080/"
        },
        "id": "_SjOedqlRImA",
        "outputId": "8bb9543d-4488-48e7-9123-7f837745e43f"
      },
      "execution_count": 49,
      "outputs": [
        {
          "output_type": "stream",
          "name": "stdout",
          "text": [
            "(61,)\n"
          ]
        }
      ]
    },
    {
      "cell_type": "code",
      "source": [
        "score_dt = round(accuracy_score(Y_pred_dt,Y_test)*100,2)\n",
        "\n",
        "print(\"The accuracy score achieved using Decision Tree is: \"+str(score_dt)+\" %\")"
      ],
      "metadata": {
        "colab": {
          "base_uri": "https://localhost:8080/"
        },
        "id": "mXyD8oZpRKC9",
        "outputId": "3ce04961-d137-4593-e07b-d4cdbefc5241"
      },
      "execution_count": 50,
      "outputs": [
        {
          "output_type": "stream",
          "name": "stdout",
          "text": [
            "The accuracy score achieved using Decision Tree is: 81.97 %\n"
          ]
        }
      ]
    },
    {
      "cell_type": "markdown",
      "source": [
        "##Random Foresst"
      ],
      "metadata": {
        "id": "Y72L4_XCRMym"
      }
    },
    {
      "cell_type": "code",
      "source": [
        "from sklearn.ensemble import RandomForestClassifier\n",
        "\n",
        "max_accuracy = 0\n",
        "\n",
        "\n",
        "for x in range(2000):\n",
        "    rf = RandomForestClassifier(random_state=x)\n",
        "    rf.fit(X_train,Y_train)\n",
        "    Y_pred_rf = rf.predict(X_test)\n",
        "    current_accuracy = round(accuracy_score(Y_pred_rf,Y_test)*100,2)\n",
        "    if(current_accuracy>max_accuracy):\n",
        "        max_accuracy = current_accuracy\n",
        "        best_x = x\n",
        "\n",
        "#print(max_accuracy)\n",
        "#print(best_x)\n",
        "\n",
        "rf = RandomForestClassifier(random_state=best_x)\n",
        "rf.fit(X_train,Y_train)\n",
        "Y_pred_rf = rf.predict(X_test)"
      ],
      "metadata": {
        "id": "yTZ_UFdvRLdl"
      },
      "execution_count": 51,
      "outputs": []
    },
    {
      "cell_type": "code",
      "source": [
        "Y_pred_rf.shape"
      ],
      "metadata": {
        "colab": {
          "base_uri": "https://localhost:8080/"
        },
        "id": "z0kDbEeJRO-P",
        "outputId": "5d2a0299-6838-432d-9c33-f113e4eb14fb"
      },
      "execution_count": 52,
      "outputs": [
        {
          "output_type": "execute_result",
          "data": {
            "text/plain": [
              "(61,)"
            ]
          },
          "metadata": {},
          "execution_count": 52
        }
      ]
    },
    {
      "cell_type": "code",
      "source": [
        "score_rf = round(accuracy_score(Y_pred_rf,Y_test)*100,2)\n",
        "\n",
        "print(\"The accuracy score achieved using Decision Tree is: \"+str(score_rf)+\" %\")"
      ],
      "metadata": {
        "colab": {
          "base_uri": "https://localhost:8080/"
        },
        "id": "WXv_VxdPRQ2D",
        "outputId": "d6789a37-8477-4d0e-ae30-3c3f14369730"
      },
      "execution_count": 53,
      "outputs": [
        {
          "output_type": "stream",
          "name": "stdout",
          "text": [
            "The accuracy score achieved using Decision Tree is: 90.16 %\n"
          ]
        }
      ]
    },
    {
      "cell_type": "markdown",
      "source": [
        "##Neural Network"
      ],
      "metadata": {
        "id": "q6tL_LUKRUX3"
      }
    },
    {
      "cell_type": "code",
      "source": [
        "from keras.models import Sequential\n",
        "from keras.layers import Dense"
      ],
      "metadata": {
        "id": "lXn8rh0FRSRG"
      },
      "execution_count": 54,
      "outputs": []
    },
    {
      "cell_type": "code",
      "source": [
        "model = Sequential()\n",
        "model.add(Dense(11,activation='relu',input_dim=13))\n",
        "model.add(Dense(1,activation='sigmoid'))\n",
        "\n",
        "model.compile(loss='binary_crossentropy',optimizer='adam',metrics=['accuracy'])"
      ],
      "metadata": {
        "id": "CK6egjG6RV8y"
      },
      "execution_count": 55,
      "outputs": []
    },
    {
      "cell_type": "code",
      "source": [
        "model.fit(X_train,Y_train,epochs=300)"
      ],
      "metadata": {
        "colab": {
          "base_uri": "https://localhost:8080/"
        },
        "id": "bc4pFy3IRYQQ",
        "outputId": "d1671f33-8ff1-4ba2-b635-03e978e6825f"
      },
      "execution_count": 56,
      "outputs": [
        {
          "output_type": "stream",
          "name": "stdout",
          "text": [
            "Epoch 1/300\n",
            "8/8 [==============================] - 1s 3ms/step - loss: 18.1515 - accuracy: 0.5455\n",
            "Epoch 2/300\n",
            "8/8 [==============================] - 0s 2ms/step - loss: 10.8803 - accuracy: 0.5702\n",
            "Epoch 3/300\n",
            "8/8 [==============================] - 0s 2ms/step - loss: 5.1394 - accuracy: 0.6322\n",
            "Epoch 4/300\n",
            "8/8 [==============================] - 0s 3ms/step - loss: 3.4964 - accuracy: 0.6942\n",
            "Epoch 5/300\n",
            "8/8 [==============================] - 0s 2ms/step - loss: 3.7691 - accuracy: 0.6570\n",
            "Epoch 6/300\n",
            "8/8 [==============================] - 0s 3ms/step - loss: 3.5435 - accuracy: 0.6570\n",
            "Epoch 7/300\n",
            "8/8 [==============================] - 0s 3ms/step - loss: 3.2587 - accuracy: 0.7025\n",
            "Epoch 8/300\n",
            "8/8 [==============================] - 0s 2ms/step - loss: 3.2701 - accuracy: 0.7149\n",
            "Epoch 9/300\n",
            "8/8 [==============================] - 0s 3ms/step - loss: 3.2068 - accuracy: 0.7149\n",
            "Epoch 10/300\n",
            "8/8 [==============================] - 0s 3ms/step - loss: 3.1526 - accuracy: 0.6942\n",
            "Epoch 11/300\n",
            "8/8 [==============================] - 0s 3ms/step - loss: 3.1330 - accuracy: 0.6983\n",
            "Epoch 12/300\n",
            "8/8 [==============================] - 0s 3ms/step - loss: 3.0848 - accuracy: 0.6901\n",
            "Epoch 13/300\n",
            "8/8 [==============================] - 0s 3ms/step - loss: 3.0400 - accuracy: 0.6983\n",
            "Epoch 14/300\n",
            "8/8 [==============================] - 0s 3ms/step - loss: 2.9935 - accuracy: 0.7066\n",
            "Epoch 15/300\n",
            "8/8 [==============================] - 0s 4ms/step - loss: 2.9638 - accuracy: 0.6942\n",
            "Epoch 16/300\n",
            "8/8 [==============================] - 0s 4ms/step - loss: 2.9104 - accuracy: 0.6901\n",
            "Epoch 17/300\n",
            "8/8 [==============================] - 0s 3ms/step - loss: 2.8701 - accuracy: 0.6983\n",
            "Epoch 18/300\n",
            "8/8 [==============================] - 0s 3ms/step - loss: 2.8256 - accuracy: 0.6942\n",
            "Epoch 19/300\n",
            "8/8 [==============================] - 0s 2ms/step - loss: 2.7918 - accuracy: 0.7107\n",
            "Epoch 20/300\n",
            "8/8 [==============================] - 0s 2ms/step - loss: 2.7653 - accuracy: 0.6983\n",
            "Epoch 21/300\n",
            "8/8 [==============================] - 0s 3ms/step - loss: 2.6797 - accuracy: 0.6942\n",
            "Epoch 22/300\n",
            "8/8 [==============================] - 0s 3ms/step - loss: 2.6471 - accuracy: 0.7149\n",
            "Epoch 23/300\n",
            "8/8 [==============================] - 0s 2ms/step - loss: 2.6221 - accuracy: 0.7107\n",
            "Epoch 24/300\n",
            "8/8 [==============================] - 0s 3ms/step - loss: 2.5428 - accuracy: 0.7149\n",
            "Epoch 25/300\n",
            "8/8 [==============================] - 0s 3ms/step - loss: 2.5079 - accuracy: 0.7231\n",
            "Epoch 26/300\n",
            "8/8 [==============================] - 0s 3ms/step - loss: 2.4742 - accuracy: 0.6983\n",
            "Epoch 27/300\n",
            "8/8 [==============================] - 0s 3ms/step - loss: 2.3959 - accuracy: 0.6942\n",
            "Epoch 28/300\n",
            "8/8 [==============================] - 0s 2ms/step - loss: 2.3271 - accuracy: 0.7149\n",
            "Epoch 29/300\n",
            "8/8 [==============================] - 0s 2ms/step - loss: 2.3257 - accuracy: 0.6983\n",
            "Epoch 30/300\n",
            "8/8 [==============================] - 0s 3ms/step - loss: 2.3058 - accuracy: 0.7231\n",
            "Epoch 31/300\n",
            "8/8 [==============================] - 0s 2ms/step - loss: 2.1751 - accuracy: 0.7231\n",
            "Epoch 32/300\n",
            "8/8 [==============================] - 0s 2ms/step - loss: 2.1471 - accuracy: 0.6983\n",
            "Epoch 33/300\n",
            "8/8 [==============================] - 0s 3ms/step - loss: 2.0824 - accuracy: 0.6983\n",
            "Epoch 34/300\n",
            "8/8 [==============================] - 0s 3ms/step - loss: 2.0381 - accuracy: 0.7314\n",
            "Epoch 35/300\n",
            "8/8 [==============================] - 0s 3ms/step - loss: 1.9832 - accuracy: 0.7273\n",
            "Epoch 36/300\n",
            "8/8 [==============================] - 0s 3ms/step - loss: 1.9259 - accuracy: 0.7231\n",
            "Epoch 37/300\n",
            "8/8 [==============================] - 0s 3ms/step - loss: 1.8756 - accuracy: 0.7066\n",
            "Epoch 38/300\n",
            "8/8 [==============================] - 0s 2ms/step - loss: 1.8227 - accuracy: 0.7190\n",
            "Epoch 39/300\n",
            "8/8 [==============================] - 0s 3ms/step - loss: 1.7838 - accuracy: 0.7314\n",
            "Epoch 40/300\n",
            "8/8 [==============================] - 0s 2ms/step - loss: 1.7274 - accuracy: 0.7066\n",
            "Epoch 41/300\n",
            "8/8 [==============================] - 0s 2ms/step - loss: 1.6588 - accuracy: 0.7149\n",
            "Epoch 42/300\n",
            "8/8 [==============================] - 0s 3ms/step - loss: 1.6115 - accuracy: 0.7438\n",
            "Epoch 43/300\n",
            "8/8 [==============================] - 0s 2ms/step - loss: 1.5436 - accuracy: 0.7231\n",
            "Epoch 44/300\n",
            "8/8 [==============================] - 0s 2ms/step - loss: 1.4535 - accuracy: 0.7107\n",
            "Epoch 45/300\n",
            "8/8 [==============================] - 0s 3ms/step - loss: 1.3872 - accuracy: 0.7273\n",
            "Epoch 46/300\n",
            "8/8 [==============================] - 0s 4ms/step - loss: 1.3082 - accuracy: 0.7273\n",
            "Epoch 47/300\n",
            "8/8 [==============================] - 0s 3ms/step - loss: 1.2382 - accuracy: 0.7273\n",
            "Epoch 48/300\n",
            "8/8 [==============================] - 0s 4ms/step - loss: 1.1522 - accuracy: 0.7273\n",
            "Epoch 49/300\n",
            "8/8 [==============================] - 0s 3ms/step - loss: 1.0818 - accuracy: 0.7314\n",
            "Epoch 50/300\n",
            "8/8 [==============================] - 0s 3ms/step - loss: 1.0192 - accuracy: 0.7231\n",
            "Epoch 51/300\n",
            "8/8 [==============================] - 0s 3ms/step - loss: 0.9448 - accuracy: 0.7190\n",
            "Epoch 52/300\n",
            "8/8 [==============================] - 0s 3ms/step - loss: 0.8970 - accuracy: 0.7273\n",
            "Epoch 53/300\n",
            "8/8 [==============================] - 0s 3ms/step - loss: 0.8651 - accuracy: 0.7066\n",
            "Epoch 54/300\n",
            "8/8 [==============================] - 0s 3ms/step - loss: 0.8497 - accuracy: 0.6942\n",
            "Epoch 55/300\n",
            "8/8 [==============================] - 0s 3ms/step - loss: 0.8126 - accuracy: 0.7149\n",
            "Epoch 56/300\n",
            "8/8 [==============================] - 0s 4ms/step - loss: 0.8033 - accuracy: 0.6901\n",
            "Epoch 57/300\n",
            "8/8 [==============================] - 0s 6ms/step - loss: 0.8089 - accuracy: 0.6818\n",
            "Epoch 58/300\n",
            "8/8 [==============================] - 0s 3ms/step - loss: 0.7708 - accuracy: 0.6983\n",
            "Epoch 59/300\n",
            "8/8 [==============================] - 0s 3ms/step - loss: 0.7510 - accuracy: 0.7025\n",
            "Epoch 60/300\n",
            "8/8 [==============================] - 0s 3ms/step - loss: 0.7481 - accuracy: 0.7190\n",
            "Epoch 61/300\n",
            "8/8 [==============================] - 0s 4ms/step - loss: 0.7406 - accuracy: 0.7025\n",
            "Epoch 62/300\n",
            "8/8 [==============================] - 0s 3ms/step - loss: 0.7064 - accuracy: 0.7066\n",
            "Epoch 63/300\n",
            "8/8 [==============================] - 0s 4ms/step - loss: 0.7097 - accuracy: 0.7190\n",
            "Epoch 64/300\n",
            "8/8 [==============================] - 0s 3ms/step - loss: 0.6991 - accuracy: 0.6983\n",
            "Epoch 65/300\n",
            "8/8 [==============================] - 0s 4ms/step - loss: 0.7027 - accuracy: 0.7149\n",
            "Epoch 66/300\n",
            "8/8 [==============================] - 0s 4ms/step - loss: 0.6960 - accuracy: 0.7190\n",
            "Epoch 67/300\n",
            "8/8 [==============================] - 0s 3ms/step - loss: 0.6835 - accuracy: 0.7273\n",
            "Epoch 68/300\n",
            "8/8 [==============================] - 0s 3ms/step - loss: 0.6696 - accuracy: 0.7190\n",
            "Epoch 69/300\n",
            "8/8 [==============================] - 0s 3ms/step - loss: 0.6623 - accuracy: 0.7479\n",
            "Epoch 70/300\n",
            "8/8 [==============================] - 0s 3ms/step - loss: 0.6351 - accuracy: 0.7438\n",
            "Epoch 71/300\n",
            "8/8 [==============================] - 0s 3ms/step - loss: 0.6304 - accuracy: 0.7479\n",
            "Epoch 72/300\n",
            "8/8 [==============================] - 0s 2ms/step - loss: 0.6028 - accuracy: 0.7479\n",
            "Epoch 73/300\n",
            "8/8 [==============================] - 0s 3ms/step - loss: 0.5991 - accuracy: 0.7397\n",
            "Epoch 74/300\n",
            "8/8 [==============================] - 0s 4ms/step - loss: 0.5810 - accuracy: 0.7521\n",
            "Epoch 75/300\n",
            "8/8 [==============================] - 0s 3ms/step - loss: 0.5737 - accuracy: 0.7562\n",
            "Epoch 76/300\n",
            "8/8 [==============================] - 0s 4ms/step - loss: 0.5889 - accuracy: 0.7479\n",
            "Epoch 77/300\n",
            "8/8 [==============================] - 0s 3ms/step - loss: 0.5560 - accuracy: 0.7562\n",
            "Epoch 78/300\n",
            "8/8 [==============================] - 0s 3ms/step - loss: 0.5634 - accuracy: 0.7521\n",
            "Epoch 79/300\n",
            "8/8 [==============================] - 0s 3ms/step - loss: 0.5494 - accuracy: 0.7355\n",
            "Epoch 80/300\n",
            "8/8 [==============================] - 0s 3ms/step - loss: 0.5598 - accuracy: 0.7645\n",
            "Epoch 81/300\n",
            "8/8 [==============================] - 0s 3ms/step - loss: 0.5329 - accuracy: 0.7686\n",
            "Epoch 82/300\n",
            "8/8 [==============================] - 0s 3ms/step - loss: 0.5258 - accuracy: 0.7686\n",
            "Epoch 83/300\n",
            "8/8 [==============================] - 0s 3ms/step - loss: 0.4963 - accuracy: 0.7810\n",
            "Epoch 84/300\n",
            "8/8 [==============================] - 0s 3ms/step - loss: 0.5225 - accuracy: 0.7603\n",
            "Epoch 85/300\n",
            "8/8 [==============================] - 0s 2ms/step - loss: 0.5031 - accuracy: 0.7851\n",
            "Epoch 86/300\n",
            "8/8 [==============================] - 0s 3ms/step - loss: 0.4918 - accuracy: 0.7727\n",
            "Epoch 87/300\n",
            "8/8 [==============================] - 0s 2ms/step - loss: 0.4725 - accuracy: 0.7769\n",
            "Epoch 88/300\n",
            "8/8 [==============================] - 0s 3ms/step - loss: 0.4680 - accuracy: 0.7810\n",
            "Epoch 89/300\n",
            "8/8 [==============================] - 0s 4ms/step - loss: 0.4620 - accuracy: 0.7934\n",
            "Epoch 90/300\n",
            "8/8 [==============================] - 0s 3ms/step - loss: 0.4584 - accuracy: 0.7851\n",
            "Epoch 91/300\n",
            "8/8 [==============================] - 0s 3ms/step - loss: 0.4457 - accuracy: 0.8182\n",
            "Epoch 92/300\n",
            "8/8 [==============================] - 0s 4ms/step - loss: 0.4484 - accuracy: 0.8017\n",
            "Epoch 93/300\n",
            "8/8 [==============================] - 0s 3ms/step - loss: 0.4609 - accuracy: 0.7893\n",
            "Epoch 94/300\n",
            "8/8 [==============================] - 0s 2ms/step - loss: 0.4346 - accuracy: 0.8140\n",
            "Epoch 95/300\n",
            "8/8 [==============================] - 0s 3ms/step - loss: 0.4274 - accuracy: 0.8058\n",
            "Epoch 96/300\n",
            "8/8 [==============================] - 0s 3ms/step - loss: 0.4482 - accuracy: 0.8058\n",
            "Epoch 97/300\n",
            "8/8 [==============================] - 0s 3ms/step - loss: 0.4522 - accuracy: 0.8058\n",
            "Epoch 98/300\n",
            "8/8 [==============================] - 0s 3ms/step - loss: 0.4179 - accuracy: 0.8140\n",
            "Epoch 99/300\n",
            "8/8 [==============================] - 0s 3ms/step - loss: 0.4649 - accuracy: 0.7934\n",
            "Epoch 100/300\n",
            "8/8 [==============================] - 0s 3ms/step - loss: 0.4331 - accuracy: 0.7934\n",
            "Epoch 101/300\n",
            "8/8 [==============================] - 0s 3ms/step - loss: 0.3909 - accuracy: 0.8140\n",
            "Epoch 102/300\n",
            "8/8 [==============================] - 0s 3ms/step - loss: 0.3949 - accuracy: 0.8099\n",
            "Epoch 103/300\n",
            "8/8 [==============================] - 0s 2ms/step - loss: 0.3959 - accuracy: 0.8182\n",
            "Epoch 104/300\n",
            "8/8 [==============================] - 0s 3ms/step - loss: 0.3915 - accuracy: 0.8347\n",
            "Epoch 105/300\n",
            "8/8 [==============================] - 0s 3ms/step - loss: 0.3855 - accuracy: 0.8306\n",
            "Epoch 106/300\n",
            "8/8 [==============================] - 0s 3ms/step - loss: 0.3865 - accuracy: 0.8306\n",
            "Epoch 107/300\n",
            "8/8 [==============================] - 0s 4ms/step - loss: 0.3960 - accuracy: 0.8223\n",
            "Epoch 108/300\n",
            "8/8 [==============================] - 0s 3ms/step - loss: 0.3895 - accuracy: 0.8512\n",
            "Epoch 109/300\n",
            "8/8 [==============================] - 0s 3ms/step - loss: 0.4095 - accuracy: 0.8017\n",
            "Epoch 110/300\n",
            "8/8 [==============================] - 0s 3ms/step - loss: 0.4088 - accuracy: 0.8140\n",
            "Epoch 111/300\n",
            "8/8 [==============================] - 0s 4ms/step - loss: 0.3991 - accuracy: 0.8017\n",
            "Epoch 112/300\n",
            "8/8 [==============================] - 0s 3ms/step - loss: 0.3924 - accuracy: 0.8347\n",
            "Epoch 113/300\n",
            "8/8 [==============================] - 0s 4ms/step - loss: 0.3870 - accuracy: 0.8306\n",
            "Epoch 114/300\n",
            "8/8 [==============================] - 0s 3ms/step - loss: 0.3794 - accuracy: 0.8306\n",
            "Epoch 115/300\n",
            "8/8 [==============================] - 0s 3ms/step - loss: 0.3794 - accuracy: 0.8388\n",
            "Epoch 116/300\n",
            "8/8 [==============================] - 0s 3ms/step - loss: 0.3948 - accuracy: 0.8140\n",
            "Epoch 117/300\n",
            "8/8 [==============================] - 0s 3ms/step - loss: 0.3955 - accuracy: 0.8182\n",
            "Epoch 118/300\n",
            "8/8 [==============================] - 0s 3ms/step - loss: 0.3930 - accuracy: 0.8058\n",
            "Epoch 119/300\n",
            "8/8 [==============================] - 0s 4ms/step - loss: 0.3774 - accuracy: 0.8306\n",
            "Epoch 120/300\n",
            "8/8 [==============================] - 0s 4ms/step - loss: 0.3815 - accuracy: 0.8306\n",
            "Epoch 121/300\n",
            "8/8 [==============================] - 0s 5ms/step - loss: 0.3784 - accuracy: 0.8306\n",
            "Epoch 122/300\n",
            "8/8 [==============================] - 0s 5ms/step - loss: 0.3952 - accuracy: 0.8223\n",
            "Epoch 123/300\n",
            "8/8 [==============================] - 0s 3ms/step - loss: 0.3903 - accuracy: 0.8182\n",
            "Epoch 124/300\n",
            "8/8 [==============================] - 0s 6ms/step - loss: 0.4193 - accuracy: 0.8099\n",
            "Epoch 125/300\n",
            "8/8 [==============================] - 0s 4ms/step - loss: 0.3722 - accuracy: 0.8223\n",
            "Epoch 126/300\n",
            "8/8 [==============================] - 0s 5ms/step - loss: 0.4130 - accuracy: 0.8182\n",
            "Epoch 127/300\n",
            "8/8 [==============================] - 0s 4ms/step - loss: 0.4269 - accuracy: 0.8058\n",
            "Epoch 128/300\n",
            "8/8 [==============================] - 0s 5ms/step - loss: 0.4045 - accuracy: 0.8099\n",
            "Epoch 129/300\n",
            "8/8 [==============================] - 0s 5ms/step - loss: 0.4146 - accuracy: 0.8017\n",
            "Epoch 130/300\n",
            "8/8 [==============================] - 0s 5ms/step - loss: 0.4175 - accuracy: 0.8140\n",
            "Epoch 131/300\n",
            "8/8 [==============================] - 0s 4ms/step - loss: 0.4659 - accuracy: 0.7851\n",
            "Epoch 132/300\n",
            "8/8 [==============================] - 0s 4ms/step - loss: 0.4024 - accuracy: 0.8306\n",
            "Epoch 133/300\n",
            "8/8 [==============================] - 0s 5ms/step - loss: 0.4058 - accuracy: 0.8223\n",
            "Epoch 134/300\n",
            "8/8 [==============================] - 0s 6ms/step - loss: 0.3875 - accuracy: 0.8306\n",
            "Epoch 135/300\n",
            "8/8 [==============================] - 0s 4ms/step - loss: 0.3867 - accuracy: 0.8223\n",
            "Epoch 136/300\n",
            "8/8 [==============================] - 0s 5ms/step - loss: 0.3781 - accuracy: 0.8388\n",
            "Epoch 137/300\n",
            "8/8 [==============================] - 0s 4ms/step - loss: 0.3702 - accuracy: 0.8471\n",
            "Epoch 138/300\n",
            "8/8 [==============================] - 0s 4ms/step - loss: 0.3859 - accuracy: 0.8306\n",
            "Epoch 139/300\n",
            "8/8 [==============================] - 0s 4ms/step - loss: 0.3808 - accuracy: 0.8223\n",
            "Epoch 140/300\n",
            "8/8 [==============================] - 0s 4ms/step - loss: 0.3833 - accuracy: 0.8347\n",
            "Epoch 141/300\n",
            "8/8 [==============================] - 0s 4ms/step - loss: 0.3885 - accuracy: 0.8182\n",
            "Epoch 142/300\n",
            "8/8 [==============================] - 0s 3ms/step - loss: 0.3894 - accuracy: 0.8223\n",
            "Epoch 143/300\n",
            "8/8 [==============================] - 0s 3ms/step - loss: 0.3781 - accuracy: 0.8264\n",
            "Epoch 144/300\n",
            "8/8 [==============================] - 0s 4ms/step - loss: 0.3671 - accuracy: 0.8347\n",
            "Epoch 145/300\n",
            "8/8 [==============================] - 0s 4ms/step - loss: 0.3688 - accuracy: 0.8595\n",
            "Epoch 146/300\n",
            "8/8 [==============================] - 0s 4ms/step - loss: 0.3783 - accuracy: 0.8264\n",
            "Epoch 147/300\n",
            "8/8 [==============================] - 0s 3ms/step - loss: 0.3864 - accuracy: 0.8182\n",
            "Epoch 148/300\n",
            "8/8 [==============================] - 0s 4ms/step - loss: 0.3670 - accuracy: 0.8471\n",
            "Epoch 149/300\n",
            "8/8 [==============================] - 0s 3ms/step - loss: 0.3657 - accuracy: 0.8347\n",
            "Epoch 150/300\n",
            "8/8 [==============================] - 0s 3ms/step - loss: 0.3652 - accuracy: 0.8595\n",
            "Epoch 151/300\n",
            "8/8 [==============================] - 0s 4ms/step - loss: 0.3664 - accuracy: 0.8388\n",
            "Epoch 152/300\n",
            "8/8 [==============================] - 0s 3ms/step - loss: 0.3678 - accuracy: 0.8471\n",
            "Epoch 153/300\n",
            "8/8 [==============================] - 0s 3ms/step - loss: 0.3748 - accuracy: 0.8347\n",
            "Epoch 154/300\n",
            "8/8 [==============================] - 0s 3ms/step - loss: 0.3639 - accuracy: 0.8554\n",
            "Epoch 155/300\n",
            "8/8 [==============================] - 0s 4ms/step - loss: 0.3780 - accuracy: 0.8140\n",
            "Epoch 156/300\n",
            "8/8 [==============================] - 0s 3ms/step - loss: 0.3763 - accuracy: 0.8388\n",
            "Epoch 157/300\n",
            "8/8 [==============================] - 0s 3ms/step - loss: 0.3694 - accuracy: 0.8554\n",
            "Epoch 158/300\n",
            "8/8 [==============================] - 0s 3ms/step - loss: 0.3692 - accuracy: 0.8388\n",
            "Epoch 159/300\n",
            "8/8 [==============================] - 0s 3ms/step - loss: 0.3642 - accuracy: 0.8512\n",
            "Epoch 160/300\n",
            "8/8 [==============================] - 0s 5ms/step - loss: 0.3652 - accuracy: 0.8347\n",
            "Epoch 161/300\n",
            "8/8 [==============================] - 0s 4ms/step - loss: 0.3795 - accuracy: 0.8471\n",
            "Epoch 162/300\n",
            "8/8 [==============================] - 0s 5ms/step - loss: 0.3657 - accuracy: 0.8471\n",
            "Epoch 163/300\n",
            "8/8 [==============================] - 0s 4ms/step - loss: 0.3795 - accuracy: 0.8347\n",
            "Epoch 164/300\n",
            "8/8 [==============================] - 0s 4ms/step - loss: 0.4046 - accuracy: 0.8264\n",
            "Epoch 165/300\n",
            "8/8 [==============================] - 0s 4ms/step - loss: 0.3810 - accuracy: 0.8388\n",
            "Epoch 166/300\n",
            "8/8 [==============================] - 0s 4ms/step - loss: 0.4206 - accuracy: 0.8140\n",
            "Epoch 167/300\n",
            "8/8 [==============================] - 0s 3ms/step - loss: 0.3666 - accuracy: 0.8430\n",
            "Epoch 168/300\n",
            "8/8 [==============================] - 0s 4ms/step - loss: 0.3831 - accuracy: 0.8182\n",
            "Epoch 169/300\n",
            "8/8 [==============================] - 0s 4ms/step - loss: 0.3776 - accuracy: 0.8347\n",
            "Epoch 170/300\n",
            "8/8 [==============================] - 0s 3ms/step - loss: 0.3616 - accuracy: 0.8471\n",
            "Epoch 171/300\n",
            "8/8 [==============================] - 0s 3ms/step - loss: 0.3703 - accuracy: 0.8512\n",
            "Epoch 172/300\n",
            "8/8 [==============================] - 0s 4ms/step - loss: 0.3655 - accuracy: 0.8347\n",
            "Epoch 173/300\n",
            "8/8 [==============================] - 0s 5ms/step - loss: 0.3771 - accuracy: 0.8388\n",
            "Epoch 174/300\n",
            "8/8 [==============================] - 0s 4ms/step - loss: 0.3744 - accuracy: 0.8554\n",
            "Epoch 175/300\n",
            "8/8 [==============================] - 0s 4ms/step - loss: 0.3945 - accuracy: 0.8099\n",
            "Epoch 176/300\n",
            "8/8 [==============================] - 0s 6ms/step - loss: 0.3805 - accuracy: 0.8223\n",
            "Epoch 177/300\n",
            "8/8 [==============================] - 0s 6ms/step - loss: 0.3722 - accuracy: 0.8306\n",
            "Epoch 178/300\n",
            "8/8 [==============================] - 0s 5ms/step - loss: 0.3669 - accuracy: 0.8430\n",
            "Epoch 179/300\n",
            "8/8 [==============================] - 0s 4ms/step - loss: 0.3666 - accuracy: 0.8512\n",
            "Epoch 180/300\n",
            "8/8 [==============================] - 0s 4ms/step - loss: 0.3702 - accuracy: 0.8347\n",
            "Epoch 181/300\n",
            "8/8 [==============================] - 0s 4ms/step - loss: 0.3746 - accuracy: 0.8430\n",
            "Epoch 182/300\n",
            "8/8 [==============================] - 0s 4ms/step - loss: 0.3652 - accuracy: 0.8512\n",
            "Epoch 183/300\n",
            "8/8 [==============================] - 0s 3ms/step - loss: 0.3630 - accuracy: 0.8388\n",
            "Epoch 184/300\n",
            "8/8 [==============================] - 0s 4ms/step - loss: 0.3772 - accuracy: 0.8140\n",
            "Epoch 185/300\n",
            "8/8 [==============================] - 0s 4ms/step - loss: 0.3946 - accuracy: 0.8306\n",
            "Epoch 186/300\n",
            "8/8 [==============================] - 0s 6ms/step - loss: 0.3780 - accuracy: 0.8430\n",
            "Epoch 187/300\n",
            "8/8 [==============================] - 0s 4ms/step - loss: 0.3937 - accuracy: 0.8264\n",
            "Epoch 188/300\n",
            "8/8 [==============================] - 0s 4ms/step - loss: 0.3643 - accuracy: 0.8388\n",
            "Epoch 189/300\n",
            "8/8 [==============================] - 0s 4ms/step - loss: 0.3741 - accuracy: 0.8388\n",
            "Epoch 190/300\n",
            "8/8 [==============================] - 0s 3ms/step - loss: 0.3601 - accuracy: 0.8471\n",
            "Epoch 191/300\n",
            "8/8 [==============================] - 0s 3ms/step - loss: 0.3708 - accuracy: 0.8388\n",
            "Epoch 192/300\n",
            "8/8 [==============================] - 0s 3ms/step - loss: 0.3616 - accuracy: 0.8471\n",
            "Epoch 193/300\n",
            "8/8 [==============================] - 0s 5ms/step - loss: 0.3621 - accuracy: 0.8512\n",
            "Epoch 194/300\n",
            "8/8 [==============================] - 0s 3ms/step - loss: 0.3860 - accuracy: 0.8223\n",
            "Epoch 195/300\n",
            "8/8 [==============================] - 0s 4ms/step - loss: 0.3805 - accuracy: 0.8264\n",
            "Epoch 196/300\n",
            "8/8 [==============================] - 0s 4ms/step - loss: 0.3657 - accuracy: 0.8512\n",
            "Epoch 197/300\n",
            "8/8 [==============================] - 0s 6ms/step - loss: 0.3825 - accuracy: 0.8223\n",
            "Epoch 198/300\n",
            "8/8 [==============================] - 0s 7ms/step - loss: 0.3726 - accuracy: 0.8264\n",
            "Epoch 199/300\n",
            "8/8 [==============================] - 0s 5ms/step - loss: 0.3597 - accuracy: 0.8471\n",
            "Epoch 200/300\n",
            "8/8 [==============================] - 0s 4ms/step - loss: 0.3656 - accuracy: 0.8595\n",
            "Epoch 201/300\n",
            "8/8 [==============================] - 0s 3ms/step - loss: 0.3866 - accuracy: 0.8264\n",
            "Epoch 202/300\n",
            "8/8 [==============================] - 0s 5ms/step - loss: 0.3593 - accuracy: 0.8471\n",
            "Epoch 203/300\n",
            "8/8 [==============================] - 0s 4ms/step - loss: 0.3802 - accuracy: 0.8264\n",
            "Epoch 204/300\n",
            "8/8 [==============================] - 0s 4ms/step - loss: 0.3875 - accuracy: 0.8347\n",
            "Epoch 205/300\n",
            "8/8 [==============================] - 0s 4ms/step - loss: 0.3585 - accuracy: 0.8595\n",
            "Epoch 206/300\n",
            "8/8 [==============================] - 0s 4ms/step - loss: 0.3705 - accuracy: 0.8306\n",
            "Epoch 207/300\n",
            "8/8 [==============================] - 0s 4ms/step - loss: 0.3597 - accuracy: 0.8430\n",
            "Epoch 208/300\n",
            "8/8 [==============================] - 0s 4ms/step - loss: 0.3639 - accuracy: 0.8595\n",
            "Epoch 209/300\n",
            "8/8 [==============================] - 0s 4ms/step - loss: 0.3661 - accuracy: 0.8388\n",
            "Epoch 210/300\n",
            "8/8 [==============================] - 0s 4ms/step - loss: 0.3771 - accuracy: 0.8264\n",
            "Epoch 211/300\n",
            "8/8 [==============================] - 0s 4ms/step - loss: 0.3767 - accuracy: 0.8554\n",
            "Epoch 212/300\n",
            "8/8 [==============================] - 0s 6ms/step - loss: 0.3766 - accuracy: 0.8347\n",
            "Epoch 213/300\n",
            "8/8 [==============================] - 0s 7ms/step - loss: 0.3840 - accuracy: 0.8182\n",
            "Epoch 214/300\n",
            "8/8 [==============================] - 0s 5ms/step - loss: 0.3603 - accuracy: 0.8512\n",
            "Epoch 215/300\n",
            "8/8 [==============================] - 0s 5ms/step - loss: 0.3580 - accuracy: 0.8430\n",
            "Epoch 216/300\n",
            "8/8 [==============================] - 0s 5ms/step - loss: 0.3597 - accuracy: 0.8388\n",
            "Epoch 217/300\n",
            "8/8 [==============================] - 0s 4ms/step - loss: 0.3596 - accuracy: 0.8512\n",
            "Epoch 218/300\n",
            "8/8 [==============================] - 0s 5ms/step - loss: 0.3628 - accuracy: 0.8430\n",
            "Epoch 219/300\n",
            "8/8 [==============================] - 0s 6ms/step - loss: 0.3635 - accuracy: 0.8512\n",
            "Epoch 220/300\n",
            "8/8 [==============================] - 0s 6ms/step - loss: 0.3644 - accuracy: 0.8347\n",
            "Epoch 221/300\n",
            "8/8 [==============================] - 0s 3ms/step - loss: 0.3713 - accuracy: 0.8223\n",
            "Epoch 222/300\n",
            "8/8 [==============================] - 0s 6ms/step - loss: 0.3786 - accuracy: 0.8223\n",
            "Epoch 223/300\n",
            "8/8 [==============================] - 0s 5ms/step - loss: 0.3738 - accuracy: 0.8430\n",
            "Epoch 224/300\n",
            "8/8 [==============================] - 0s 4ms/step - loss: 0.3544 - accuracy: 0.8512\n",
            "Epoch 225/300\n",
            "8/8 [==============================] - 0s 5ms/step - loss: 0.3877 - accuracy: 0.8388\n",
            "Epoch 226/300\n",
            "8/8 [==============================] - 0s 7ms/step - loss: 0.4210 - accuracy: 0.8058\n",
            "Epoch 227/300\n",
            "8/8 [==============================] - 0s 4ms/step - loss: 0.3894 - accuracy: 0.8388\n",
            "Epoch 228/300\n",
            "8/8 [==============================] - 0s 4ms/step - loss: 0.3930 - accuracy: 0.8264\n",
            "Epoch 229/300\n",
            "8/8 [==============================] - 0s 3ms/step - loss: 0.3582 - accuracy: 0.8388\n",
            "Epoch 230/300\n",
            "8/8 [==============================] - 0s 4ms/step - loss: 0.3773 - accuracy: 0.8347\n",
            "Epoch 231/300\n",
            "8/8 [==============================] - 0s 4ms/step - loss: 0.3929 - accuracy: 0.8264\n",
            "Epoch 232/300\n",
            "8/8 [==============================] - 0s 5ms/step - loss: 0.3887 - accuracy: 0.8223\n",
            "Epoch 233/300\n",
            "8/8 [==============================] - 0s 4ms/step - loss: 0.3704 - accuracy: 0.8347\n",
            "Epoch 234/300\n",
            "8/8 [==============================] - 0s 5ms/step - loss: 0.3659 - accuracy: 0.8430\n",
            "Epoch 235/300\n",
            "8/8 [==============================] - 0s 3ms/step - loss: 0.3630 - accuracy: 0.8306\n",
            "Epoch 236/300\n",
            "8/8 [==============================] - 0s 3ms/step - loss: 0.3858 - accuracy: 0.8264\n",
            "Epoch 237/300\n",
            "8/8 [==============================] - 0s 3ms/step - loss: 0.3744 - accuracy: 0.8306\n",
            "Epoch 238/300\n",
            "8/8 [==============================] - 0s 3ms/step - loss: 0.3908 - accuracy: 0.8347\n",
            "Epoch 239/300\n",
            "8/8 [==============================] - 0s 3ms/step - loss: 0.4241 - accuracy: 0.8223\n",
            "Epoch 240/300\n",
            "8/8 [==============================] - 0s 4ms/step - loss: 0.4070 - accuracy: 0.7975\n",
            "Epoch 241/300\n",
            "8/8 [==============================] - 0s 4ms/step - loss: 0.3711 - accuracy: 0.8471\n",
            "Epoch 242/300\n",
            "8/8 [==============================] - 0s 4ms/step - loss: 0.3705 - accuracy: 0.8430\n",
            "Epoch 243/300\n",
            "8/8 [==============================] - 0s 4ms/step - loss: 0.3629 - accuracy: 0.8512\n",
            "Epoch 244/300\n",
            "8/8 [==============================] - 0s 5ms/step - loss: 0.3642 - accuracy: 0.8264\n",
            "Epoch 245/300\n",
            "8/8 [==============================] - 0s 3ms/step - loss: 0.3621 - accuracy: 0.8430\n",
            "Epoch 246/300\n",
            "8/8 [==============================] - 0s 3ms/step - loss: 0.3922 - accuracy: 0.8264\n",
            "Epoch 247/300\n",
            "8/8 [==============================] - 0s 3ms/step - loss: 0.4031 - accuracy: 0.7975\n",
            "Epoch 248/300\n",
            "8/8 [==============================] - 0s 3ms/step - loss: 0.3757 - accuracy: 0.8347\n",
            "Epoch 249/300\n",
            "8/8 [==============================] - 0s 4ms/step - loss: 0.3886 - accuracy: 0.8264\n",
            "Epoch 250/300\n",
            "8/8 [==============================] - 0s 4ms/step - loss: 0.3698 - accuracy: 0.8678\n",
            "Epoch 251/300\n",
            "8/8 [==============================] - 0s 4ms/step - loss: 0.3728 - accuracy: 0.8471\n",
            "Epoch 252/300\n",
            "8/8 [==============================] - 0s 3ms/step - loss: 0.3695 - accuracy: 0.8388\n",
            "Epoch 253/300\n",
            "8/8 [==============================] - 0s 4ms/step - loss: 0.3568 - accuracy: 0.8512\n",
            "Epoch 254/300\n",
            "8/8 [==============================] - 0s 4ms/step - loss: 0.3572 - accuracy: 0.8512\n",
            "Epoch 255/300\n",
            "8/8 [==============================] - 0s 4ms/step - loss: 0.3829 - accuracy: 0.8306\n",
            "Epoch 256/300\n",
            "8/8 [==============================] - 0s 4ms/step - loss: 0.3960 - accuracy: 0.8182\n",
            "Epoch 257/300\n",
            "8/8 [==============================] - 0s 4ms/step - loss: 0.3724 - accuracy: 0.8223\n",
            "Epoch 258/300\n",
            "8/8 [==============================] - 0s 4ms/step - loss: 0.3846 - accuracy: 0.8223\n",
            "Epoch 259/300\n",
            "8/8 [==============================] - 0s 4ms/step - loss: 0.3657 - accuracy: 0.8554\n",
            "Epoch 260/300\n",
            "8/8 [==============================] - 0s 4ms/step - loss: 0.3609 - accuracy: 0.8512\n",
            "Epoch 261/300\n",
            "8/8 [==============================] - 0s 4ms/step - loss: 0.3727 - accuracy: 0.8595\n",
            "Epoch 262/300\n",
            "8/8 [==============================] - 0s 4ms/step - loss: 0.3810 - accuracy: 0.8223\n",
            "Epoch 263/300\n",
            "8/8 [==============================] - 0s 4ms/step - loss: 0.3799 - accuracy: 0.8595\n",
            "Epoch 264/300\n",
            "8/8 [==============================] - 0s 4ms/step - loss: 0.3629 - accuracy: 0.8512\n",
            "Epoch 265/300\n",
            "8/8 [==============================] - 0s 4ms/step - loss: 0.3576 - accuracy: 0.8471\n",
            "Epoch 266/300\n",
            "8/8 [==============================] - 0s 4ms/step - loss: 0.3611 - accuracy: 0.8388\n",
            "Epoch 267/300\n",
            "8/8 [==============================] - 0s 3ms/step - loss: 0.3684 - accuracy: 0.8347\n",
            "Epoch 268/300\n",
            "8/8 [==============================] - 0s 7ms/step - loss: 0.3891 - accuracy: 0.8471\n",
            "Epoch 269/300\n",
            "8/8 [==============================] - 0s 6ms/step - loss: 0.3992 - accuracy: 0.8099\n",
            "Epoch 270/300\n",
            "8/8 [==============================] - 0s 4ms/step - loss: 0.3632 - accuracy: 0.8471\n",
            "Epoch 271/300\n",
            "8/8 [==============================] - 0s 3ms/step - loss: 0.3610 - accuracy: 0.8471\n",
            "Epoch 272/300\n",
            "8/8 [==============================] - 0s 3ms/step - loss: 0.3682 - accuracy: 0.8430\n",
            "Epoch 273/300\n",
            "8/8 [==============================] - 0s 3ms/step - loss: 0.3656 - accuracy: 0.8595\n",
            "Epoch 274/300\n",
            "8/8 [==============================] - 0s 4ms/step - loss: 0.3607 - accuracy: 0.8471\n",
            "Epoch 275/300\n",
            "8/8 [==============================] - 0s 3ms/step - loss: 0.3601 - accuracy: 0.8430\n",
            "Epoch 276/300\n",
            "8/8 [==============================] - 0s 4ms/step - loss: 0.3597 - accuracy: 0.8388\n",
            "Epoch 277/300\n",
            "8/8 [==============================] - 0s 4ms/step - loss: 0.3626 - accuracy: 0.8347\n",
            "Epoch 278/300\n",
            "8/8 [==============================] - 0s 4ms/step - loss: 0.3548 - accuracy: 0.8512\n",
            "Epoch 279/300\n",
            "8/8 [==============================] - 0s 4ms/step - loss: 0.3693 - accuracy: 0.8471\n",
            "Epoch 280/300\n",
            "8/8 [==============================] - 0s 3ms/step - loss: 0.3627 - accuracy: 0.8347\n",
            "Epoch 281/300\n",
            "8/8 [==============================] - 0s 3ms/step - loss: 0.3614 - accuracy: 0.8430\n",
            "Epoch 282/300\n",
            "8/8 [==============================] - 0s 4ms/step - loss: 0.3664 - accuracy: 0.8306\n",
            "Epoch 283/300\n",
            "8/8 [==============================] - 0s 4ms/step - loss: 0.3616 - accuracy: 0.8471\n",
            "Epoch 284/300\n",
            "8/8 [==============================] - 0s 3ms/step - loss: 0.3583 - accuracy: 0.8554\n",
            "Epoch 285/300\n",
            "8/8 [==============================] - 0s 3ms/step - loss: 0.3696 - accuracy: 0.8347\n",
            "Epoch 286/300\n",
            "8/8 [==============================] - 0s 3ms/step - loss: 0.3602 - accuracy: 0.8512\n",
            "Epoch 287/300\n",
            "8/8 [==============================] - 0s 3ms/step - loss: 0.3631 - accuracy: 0.8554\n",
            "Epoch 288/300\n",
            "8/8 [==============================] - 0s 3ms/step - loss: 0.3671 - accuracy: 0.8347\n",
            "Epoch 289/300\n",
            "8/8 [==============================] - 0s 3ms/step - loss: 0.3675 - accuracy: 0.8388\n",
            "Epoch 290/300\n",
            "8/8 [==============================] - 0s 3ms/step - loss: 0.3568 - accuracy: 0.8430\n",
            "Epoch 291/300\n",
            "8/8 [==============================] - 0s 3ms/step - loss: 0.3627 - accuracy: 0.8471\n",
            "Epoch 292/300\n",
            "8/8 [==============================] - 0s 3ms/step - loss: 0.3559 - accuracy: 0.8512\n",
            "Epoch 293/300\n",
            "8/8 [==============================] - 0s 3ms/step - loss: 0.3601 - accuracy: 0.8430\n",
            "Epoch 294/300\n",
            "8/8 [==============================] - 0s 3ms/step - loss: 0.3593 - accuracy: 0.8471\n",
            "Epoch 295/300\n",
            "8/8 [==============================] - 0s 3ms/step - loss: 0.3627 - accuracy: 0.8512\n",
            "Epoch 296/300\n",
            "8/8 [==============================] - 0s 3ms/step - loss: 0.3938 - accuracy: 0.8058\n",
            "Epoch 297/300\n",
            "8/8 [==============================] - 0s 3ms/step - loss: 0.4025 - accuracy: 0.8099\n",
            "Epoch 298/300\n",
            "8/8 [==============================] - 0s 3ms/step - loss: 0.3753 - accuracy: 0.8347\n",
            "Epoch 299/300\n",
            "8/8 [==============================] - 0s 3ms/step - loss: 0.3661 - accuracy: 0.8388\n",
            "Epoch 300/300\n",
            "8/8 [==============================] - 0s 3ms/step - loss: 0.3582 - accuracy: 0.8430\n"
          ]
        },
        {
          "output_type": "execute_result",
          "data": {
            "text/plain": [
              "<keras.src.callbacks.History at 0x7f0c41586230>"
            ]
          },
          "metadata": {},
          "execution_count": 56
        }
      ]
    },
    {
      "cell_type": "code",
      "source": [
        "Y_pred_nn = model.predict(X_test)"
      ],
      "metadata": {
        "colab": {
          "base_uri": "https://localhost:8080/"
        },
        "id": "g5ldKtPaRZxz",
        "outputId": "d05ddf4a-c0e0-46ab-998a-0a91607d722f"
      },
      "execution_count": 57,
      "outputs": [
        {
          "output_type": "stream",
          "name": "stdout",
          "text": [
            "2/2 [==============================] - 0s 5ms/step\n"
          ]
        }
      ]
    },
    {
      "cell_type": "code",
      "source": [
        "Y_pred_nn.shape"
      ],
      "metadata": {
        "colab": {
          "base_uri": "https://localhost:8080/"
        },
        "id": "2x852iXLRbzX",
        "outputId": "1ecab030-d329-44ef-fd29-a42da9a14d0b"
      },
      "execution_count": 58,
      "outputs": [
        {
          "output_type": "execute_result",
          "data": {
            "text/plain": [
              "(61, 1)"
            ]
          },
          "metadata": {},
          "execution_count": 58
        }
      ]
    },
    {
      "cell_type": "code",
      "source": [
        "rounded = [round(x[0]) for x in Y_pred_nn]\n",
        "\n",
        "Y_pred_nn = rounded"
      ],
      "metadata": {
        "id": "RIoisfXLRdJU"
      },
      "execution_count": 59,
      "outputs": []
    },
    {
      "cell_type": "code",
      "source": [
        "score_nn = round(accuracy_score(Y_pred_nn,Y_test)*100,2)\n",
        "\n",
        "print(\"The accuracy score achieved using Neural Network is: \"+str(score_nn)+\" %\")\n"
      ],
      "metadata": {
        "colab": {
          "base_uri": "https://localhost:8080/"
        },
        "id": "LTyAmrXGRedN",
        "outputId": "d74741ce-bf4b-4a62-eb50-b3b820a63a1c"
      },
      "execution_count": 60,
      "outputs": [
        {
          "output_type": "stream",
          "name": "stdout",
          "text": [
            "The accuracy score achieved using Neural Network is: 83.61 %\n"
          ]
        }
      ]
    },
    {
      "cell_type": "markdown",
      "source": [
        "#Output"
      ],
      "metadata": {
        "id": "JDtx2xC1Rkyw"
      }
    },
    {
      "cell_type": "code",
      "source": [
        "scores = [score_lr,score_nb,score_svm,score_knn,score_dt,score_rf,score_nn]\n",
        "algorithms = [\"Logistic Regression\",\"Naive Bayes\",\"Support Vector Machine\",\"K-Nearest Neighbors\",\"Decision Tree\",\"Random Forest\",\"Neural Network\"]\n",
        "\n",
        "for i in range(len(algorithms)):\n",
        "    print(\"The accuracy score achieved using \"+algorithms[i]+\" is: \"+str(scores[i])+\" %\")"
      ],
      "metadata": {
        "colab": {
          "base_uri": "https://localhost:8080/"
        },
        "id": "_zrWo37tRg58",
        "outputId": "eb900359-09fe-4972-cfe2-fb35177c1b80"
      },
      "execution_count": 61,
      "outputs": [
        {
          "output_type": "stream",
          "name": "stdout",
          "text": [
            "The accuracy score achieved using Logistic Regression is: 85.25 %\n",
            "The accuracy score achieved using Naive Bayes is: 85.25 %\n",
            "The accuracy score achieved using Support Vector Machine is: 81.97 %\n",
            "The accuracy score achieved using K-Nearest Neighbors is: 67.21 %\n",
            "The accuracy score achieved using Decision Tree is: 81.97 %\n",
            "The accuracy score achieved using Random Forest is: 90.16 %\n",
            "The accuracy score achieved using Neural Network is: 83.61 %\n"
          ]
        }
      ]
    },
    {
      "cell_type": "code",
      "source": [
        "# Set the figure size\n",
        "sns.set(rc={'figure.figsize':(15, 8)})\n",
        "\n",
        "# Plotting the bar plot\n",
        "sns.barplot(x=algorithms, y=scores)\n",
        "\n",
        "# Adding labels and title\n",
        "plt.xlabel(\"Algorithms\")\n",
        "plt.ylabel(\"Accuracy score\")\n",
        "plt.title(\"Comparison of Accuracy Scores for Different Algorithms\")\n",
        "\n",
        "# Display the plot\n",
        "plt.show()"
      ],
      "metadata": {
        "colab": {
          "base_uri": "https://localhost:8080/",
          "height": 727
        },
        "id": "-M6N6JUqRplB",
        "outputId": "cabd9c6d-c10c-4aba-dd9e-e6b06d640633"
      },
      "execution_count": 62,
      "outputs": [
        {
          "output_type": "display_data",
          "data": {
            "text/plain": [
              "<Figure size 1500x800 with 1 Axes>"
            ],
            "image/png": "[encoded data removed]"
          },
          "metadata": {}
        }
      ]
    }
  ]
}